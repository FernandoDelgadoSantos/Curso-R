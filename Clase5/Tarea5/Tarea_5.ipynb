{
 "cells": [
  {
   "cell_type": "markdown",
   "metadata": {},
   "source": [
    "# Lista de Ejercicios"
   ]
  },
  {
   "cell_type": "markdown",
   "metadata": {},
   "source": [
    "1.Definimos:\n",
    " * `x <- c(5, 2, 1, 4); y <- rep(1, 5)`\n",
    "\n",
    "Predice las soluciones antes de escribir los comandos "
   ]
  },
  {
   "cell_type": "markdown",
   "metadata": {},
   "source": [
    "a)\n",
    " * `sum(x)`"
   ]
  },
  {
   "cell_type": "code",
   "execution_count": 1,
   "metadata": {
    "collapsed": true
   },
   "outputs": [],
   "source": [
    "# Nos dará la suma de los elementos de x."
   ]
  },
  {
   "cell_type": "markdown",
   "metadata": {},
   "source": [
    " * `range(x)`"
   ]
  },
  {
   "cell_type": "code",
   "execution_count": 2,
   "metadata": {
    "collapsed": true
   },
   "outputs": [],
   "source": [
    "# Nos dará el menor y el mayor elemento de x."
   ]
  },
  {
   "cell_type": "markdown",
   "metadata": {},
   "source": [
    " * `sum(y)`"
   ]
  },
  {
   "cell_type": "code",
   "execution_count": 3,
   "metadata": {
    "collapsed": true
   },
   "outputs": [],
   "source": [
    "# Nos dará la suma de elmentos de y."
   ]
  },
  {
   "cell_type": "markdown",
   "metadata": {},
   "source": [
    " * `length(y)`"
   ]
  },
  {
   "cell_type": "code",
   "execution_count": 4,
   "metadata": {
    "collapsed": true
   },
   "outputs": [],
   "source": [
    "# Nos dará la longitud del vector y."
   ]
  },
  {
   "cell_type": "markdown",
   "metadata": {},
   "source": [
    "b) \n",
    " * `c(x, y, 13)`"
   ]
  },
  {
   "cell_type": "code",
   "execution_count": 5,
   "metadata": {
    "collapsed": true
   },
   "outputs": [],
   "source": [
    "# Concatenará los elementos de x, y con el número 13."
   ]
  },
  {
   "cell_type": "markdown",
   "metadata": {},
   "source": [
    "c) \n",
    " * `x[4] * y[2]`"
   ]
  },
  {
   "cell_type": "code",
   "execution_count": 6,
   "metadata": {
    "collapsed": true
   },
   "outputs": [],
   "source": [
    "# Multilplicará el elemento de lugar cuatro de x, con el elemento de\n",
    "# lugar dos de y."
   ]
  },
  {
   "cell_type": "markdown",
   "metadata": {},
   "source": [
    " * `x[2:4] + x[1:3]`"
   ]
  },
  {
   "cell_type": "code",
   "execution_count": 7,
   "metadata": {
    "collapsed": true
   },
   "outputs": [],
   "source": [
    "# Sumará los elementos de x, desde el lugar dos hasta el lugar cuatro con \n",
    "# los de lugar uno, dos y tres también de x."
   ]
  },
  {
   "cell_type": "markdown",
   "metadata": {},
   "source": [
    "d) \n",
    " * `x <= 2`"
   ]
  },
  {
   "cell_type": "code",
   "execution_count": 8,
   "metadata": {
    "collapsed": true
   },
   "outputs": [],
   "source": [
    "# Compara cada elemento de x con 2, devolviéndonos un vector lógico \n",
    "# con TRUE cuando x es menor o igual a 2, y FALSE en otros casos."
   ]
  },
  {
   "cell_type": "markdown",
   "metadata": {},
   "source": [
    " * `x[x <= 2]`"
   ]
  },
  {
   "cell_type": "code",
   "execution_count": 9,
   "metadata": {
    "collapsed": true
   },
   "outputs": [],
   "source": [
    "# Nos devuelve el valor de x en las posiciones donde el vector lógico que\n",
    "# resulta de x <= 2 es TRUE."
   ]
  },
  {
   "cell_type": "markdown",
   "metadata": {},
   "source": [
    " * `x[(x != 5) & (x > 3)]`"
   ]
  },
  {
   "cell_type": "code",
   "execution_count": 10,
   "metadata": {
    "collapsed": true
   },
   "outputs": [],
   "source": [
    "# Nos retornará los valores donde el vector lógico (x != 5) & (x < 3) es TRUE, \n",
    "# dicho vector lógico será TRUE cuando cada elemen to de x sea\n",
    "# diferente de 5 y menor a 3."
   ]
  },
  {
   "cell_type": "markdown",
   "metadata": {},
   "source": [
    "e) \n",
    " * `rep(1:4,2)`"
   ]
  },
  {
   "cell_type": "code",
   "execution_count": 11,
   "metadata": {
    "collapsed": true
   },
   "outputs": [],
   "source": [
    "# Repetirá dos veces el vector 1:4"
   ]
  },
  {
   "cell_type": "markdown",
   "metadata": {},
   "source": [
    " * `rep(1:4,each = 2)`"
   ]
  },
  {
   "cell_type": "code",
   "execution_count": 12,
   "metadata": {
    "collapsed": true
   },
   "outputs": [],
   "source": [
    "# Cada elemento será repetido dos veces."
   ]
  },
  {
   "cell_type": "markdown",
   "metadata": {},
   "source": [
    " * `rep(1:4,c(2, 1, 2, 1))`"
   ]
  },
  {
   "cell_type": "code",
   "execution_count": 13,
   "metadata": {
    "collapsed": true
   },
   "outputs": [],
   "source": [
    "# Cada elemento del primer argumento de la función rep() se repetirá tantas veces como\n",
    "# indica cada elemento del segundo argumento, en una correspondencia de uno a uno."
   ]
  },
  {
   "cell_type": "markdown",
   "metadata": {},
   "source": [
    " * `rep(1:4,each = 2, len = 10)`"
   ]
  },
  {
   "cell_type": "code",
   "execution_count": 14,
   "metadata": {
    "collapsed": true
   },
   "outputs": [],
   "source": [
    "# Cada elemento del vector 1:4 se repetirá dos vececs hasta que el vector resultante alcance\n",
    "# la longitud de diez."
   ]
  },
  {
   "cell_type": "markdown",
   "metadata": {},
   "source": [
    "f) \n",
    " * `2:3^2`"
   ]
  },
  {
   "cell_type": "code",
   "execution_count": 15,
   "metadata": {
    "collapsed": true
   },
   "outputs": [],
   "source": [
    "# Enlistará los números desde dos hasta 3^2."
   ]
  },
  {
   "cell_type": "markdown",
   "metadata": {},
   "source": [
    " * `seq(2, -3) * c(-1, 1)`"
   ]
  },
  {
   "cell_type": "code",
   "execution_count": 16,
   "metadata": {
    "collapsed": true
   },
   "outputs": [],
   "source": [
    "# Luego de enlistar los número enteros desde dos hasta -3, se multiplicará a cada uno de \n",
    "# ellos, de manera alternada, por -1 y 1; donde debido a la diferencia de longitudes en\n",
    "# los vectores que hacen de facotres, R hará uso del recycling."
   ]
  },
  {
   "cell_type": "markdown",
   "metadata": {},
   "source": [
    "2.\n",
    " * Describe importantes diferencias entre las estructuras fundamentales de $R$: $\\texttt{vectores, matrices, arrays}$ y $\\texttt{listas}$. Usa ejemplos para demostrar esas diferencias."
   ]
  },
  {
   "cell_type": "code",
   "execution_count": 17,
   "metadata": {},
   "outputs": [
    {
     "data": {
      "text/html": [
       "<ol class=list-inline>\n",
       "\t<li>2</li>\n",
       "\t<li>3</li>\n",
       "\t<li>5</li>\n",
       "\t<li>7</li>\n",
       "\t<li>11</li>\n",
       "</ol>\n"
      ],
      "text/latex": [
       "\\begin{enumerate*}\n",
       "\\item 2\n",
       "\\item 3\n",
       "\\item 5\n",
       "\\item 7\n",
       "\\item 11\n",
       "\\end{enumerate*}\n"
      ],
      "text/markdown": [
       "1. 2\n",
       "2. 3\n",
       "3. 5\n",
       "4. 7\n",
       "5. 11\n",
       "\n",
       "\n"
      ],
      "text/plain": [
       "[1]  2  3  5  7 11"
      ]
     },
     "metadata": {},
     "output_type": "display_data"
    },
    {
     "data": {
      "text/html": [
       "<ol class=list-inline>\n",
       "\t<li>'build'</li>\n",
       "\t<li>'your'</li>\n",
       "\t<li>'wings'</li>\n",
       "</ol>\n"
      ],
      "text/latex": [
       "\\begin{enumerate*}\n",
       "\\item 'build'\n",
       "\\item 'your'\n",
       "\\item 'wings'\n",
       "\\end{enumerate*}\n"
      ],
      "text/markdown": [
       "1. 'build'\n",
       "2. 'your'\n",
       "3. 'wings'\n",
       "\n",
       "\n"
      ],
      "text/plain": [
       "[1] \"build\" \"your\"  \"wings\""
      ]
     },
     "metadata": {},
     "output_type": "display_data"
    },
    {
     "data": {
      "text/html": [
       "<table>\n",
       "<tbody>\n",
       "\t<tr><td>2 </td><td>5 </td><td>11</td></tr>\n",
       "\t<tr><td>3 </td><td>7 </td><td>13</td></tr>\n",
       "</tbody>\n",
       "</table>\n"
      ],
      "text/latex": [
       "\\begin{tabular}{lll}\n",
       "\t 2  & 5  & 11\\\\\n",
       "\t 3  & 7  & 13\\\\\n",
       "\\end{tabular}\n"
      ],
      "text/markdown": [
       "\n",
       "| 2  | 5  | 11 | \n",
       "| 3  | 7  | 13 | \n",
       "\n",
       "\n"
      ],
      "text/plain": [
       "     [,1] [,2] [,3]\n",
       "[1,] 2    5    11  \n",
       "[2,] 3    7    13  "
      ]
     },
     "metadata": {},
     "output_type": "display_data"
    },
    {
     "data": {
      "text/html": [
       "<ol class=list-inline>\n",
       "\t<li>1</li>\n",
       "\t<li>2</li>\n",
       "\t<li>3</li>\n",
       "\t<li>4</li>\n",
       "\t<li>5</li>\n",
       "\t<li>6</li>\n",
       "\t<li>7</li>\n",
       "\t<li>8</li>\n",
       "\t<li>9</li>\n",
       "\t<li>10</li>\n",
       "\t<li>11</li>\n",
       "\t<li>12</li>\n",
       "\t<li>13</li>\n",
       "\t<li>14</li>\n",
       "\t<li>15</li>\n",
       "\t<li>16</li>\n",
       "\t<li>17</li>\n",
       "\t<li>18</li>\n",
       "\t<li>19</li>\n",
       "\t<li>20</li>\n",
       "\t<li>21</li>\n",
       "\t<li>22</li>\n",
       "\t<li>23</li>\n",
       "\t<li>24</li>\n",
       "</ol>\n"
      ],
      "text/latex": [
       "\\begin{enumerate*}\n",
       "\\item 1\n",
       "\\item 2\n",
       "\\item 3\n",
       "\\item 4\n",
       "\\item 5\n",
       "\\item 6\n",
       "\\item 7\n",
       "\\item 8\n",
       "\\item 9\n",
       "\\item 10\n",
       "\\item 11\n",
       "\\item 12\n",
       "\\item 13\n",
       "\\item 14\n",
       "\\item 15\n",
       "\\item 16\n",
       "\\item 17\n",
       "\\item 18\n",
       "\\item 19\n",
       "\\item 20\n",
       "\\item 21\n",
       "\\item 22\n",
       "\\item 23\n",
       "\\item 24\n",
       "\\end{enumerate*}\n"
      ],
      "text/markdown": [
       "1. 1\n",
       "2. 2\n",
       "3. 3\n",
       "4. 4\n",
       "5. 5\n",
       "6. 6\n",
       "7. 7\n",
       "8. 8\n",
       "9. 9\n",
       "10. 10\n",
       "11. 11\n",
       "12. 12\n",
       "13. 13\n",
       "14. 14\n",
       "15. 15\n",
       "16. 16\n",
       "17. 17\n",
       "18. 18\n",
       "19. 19\n",
       "20. 20\n",
       "21. 21\n",
       "22. 22\n",
       "23. 23\n",
       "24. 24\n",
       "\n",
       "\n"
      ],
      "text/plain": [
       ", , 1\n",
       "\n",
       "     [,1] [,2] [,3] [,4]\n",
       "[1,]    1    4    7   10\n",
       "[2,]    2    5    8   11\n",
       "[3,]    3    6    9   12\n",
       "\n",
       ", , 2\n",
       "\n",
       "     [,1] [,2] [,3] [,4]\n",
       "[1,]   13   16   19   22\n",
       "[2,]   14   17   20   23\n",
       "[3,]   15   18   21   24\n"
      ]
     },
     "metadata": {},
     "output_type": "display_data"
    },
    {
     "data": {
      "text/html": [
       "<ol>\n",
       "\t<li>1</li>\n",
       "\t<li>'a'</li>\n",
       "\t<li>2+3i</li>\n",
       "\t<li>TRUE</li>\n",
       "</ol>\n"
      ],
      "text/latex": [
       "\\begin{enumerate}\n",
       "\\item 1\n",
       "\\item 'a'\n",
       "\\item 2+3i\n",
       "\\item TRUE\n",
       "\\end{enumerate}\n"
      ],
      "text/markdown": [
       "1. 1\n",
       "2. 'a'\n",
       "3. 2+3i\n",
       "4. TRUE\n",
       "\n",
       "\n"
      ],
      "text/plain": [
       "[[1]]\n",
       "[1] 1\n",
       "\n",
       "[[2]]\n",
       "[1] \"a\"\n",
       "\n",
       "[[3]]\n",
       "[1] 2+3i\n",
       "\n",
       "[[4]]\n",
       "[1] TRUE\n"
      ]
     },
     "metadata": {},
     "output_type": "display_data"
    }
   ],
   "source": [
    "# Vectores:\n",
    "# Un vector es una estructura de datos básica de R, que contiene elementos del mismo tipo. \n",
    "# Los tipos de datos pueden ser logical, integer, double, character, complex or raw.\n",
    "(a <- c(2, 3, 5, 7, 11)) # es una vector del tipo integer, mientras que \n",
    "(b <- c(\"build\", \"your\", \"wings\")) # es del tipo character.\n",
    "\n",
    "# Matrices:\n",
    "# Las matrices son vectores especiales en , ellas no son una clase separada de objetos, \n",
    "# sino un vector pero ahora con dimensiones añadidas a ella. Las matrices poseen filas y \n",
    "# columnas.\n",
    "(my_matrix <- matrix(c(2, 3, 5, 7, 11, 13), nrow = 2, ncol = 3))\n",
    "\n",
    "# Arrays:\n",
    "# Los vectores están altamente relacionados con un clase más grande de objetos, los arrays. \n",
    "# Los arrays poseen dos importantes características: contienen un solo tipo de dato, y los\n",
    "# arrays poseen dimensión. La dimensión del array  determina el tpo de array. Un vector \n",
    "# posee una dimensión. Un array con dos dimensiones es una matriz y aquellos que tengan \n",
    "# más de dos dimenciones es simplemente llamado array.\n",
    "(my_array <- array(1:24, dim = c(3, 4, 2)))\n",
    "\n",
    "\n",
    "# Listas:\n",
    "# En R las listas actúan como \"contenedores\". A diferencia de los vectores atómicos ellas \n",
    "# no están rectringidas a un único y pueden abarcar cualquier tipo de datos. Las listas\n",
    "# son a veces llamadas vectores recursivos, pues una lista puede contener a otras listas. \n",
    "# Esta es la principal diferencia con los vectores atómicos.\n",
    "(my_list <- list(1, \"a\", 2+ 3i, TRUE))\n"
   ]
  },
  {
   "cell_type": "markdown",
   "metadata": {},
   "source": [
    " * Explicar las diferencias entre las funciones $\\texttt{rbind()$, $cbind()}$ y $\\texttt{merge()}$ para combinar dos estructuras de dos dimensiones en $R$. Usa ejemplos para demostrar esas diferencias.\n"
   ]
  },
  {
   "cell_type": "code",
   "execution_count": 18,
   "metadata": {},
   "outputs": [
    {
     "data": {
      "text/html": [
       "<table>\n",
       "<tbody>\n",
       "\t<tr><td>1 </td><td>2 </td><td>3 </td><td>4 </td><td>5 </td><td>6 </td><td>7 </td><td>8 </td><td>9 </td><td>10</td><td>11</td><td>12</td><td>13</td><td>14</td></tr>\n",
       "\t<tr><td>1 </td><td>2 </td><td>3 </td><td>4 </td><td>5 </td><td>6 </td><td>7 </td><td>1 </td><td>2 </td><td> 3</td><td> 4</td><td> 5</td><td> 6</td><td> 7</td></tr>\n",
       "</tbody>\n",
       "</table>\n"
      ],
      "text/latex": [
       "\\begin{tabular}{llllllllllllll}\n",
       "\t 1  & 2  & 3  & 4  & 5  & 6  & 7  & 8  & 9  & 10 & 11 & 12 & 13 & 14\\\\\n",
       "\t 1  & 2  & 3  & 4  & 5  & 6  & 7  & 1  & 2  &  3 &  4 &  5 &  6 &  7\\\\\n",
       "\\end{tabular}\n"
      ],
      "text/markdown": [
       "\n",
       "| 1  | 2  | 3  | 4  | 5  | 6  | 7  | 8  | 9  | 10 | 11 | 12 | 13 | 14 | \n",
       "| 1  | 2  | 3  | 4  | 5  | 6  | 7  | 1  | 2  |  3 |  4 |  5 |  6 |  7 | \n",
       "\n",
       "\n"
      ],
      "text/plain": [
       "     [,1] [,2] [,3] [,4] [,5] [,6] [,7] [,8] [,9] [,10] [,11] [,12] [,13] [,14]\n",
       "[1,] 1    2    3    4    5    6    7    8    9    10    11    12    13    14   \n",
       "[2,] 1    2    3    4    5    6    7    1    2     3     4     5     6     7   "
      ]
     },
     "metadata": {},
     "output_type": "display_data"
    },
    {
     "data": {
      "text/html": [
       "<table>\n",
       "<thead><tr><th scope=col>x</th><th scope=col>y.x</th><th scope=col>z.x</th><th scope=col>z.y</th><th scope=col>y.y</th></tr></thead>\n",
       "<tbody>\n",
       "\t<tr><td>c         </td><td>-1.1114858</td><td>FALSE     </td><td>2.930147  </td><td>1         </td></tr>\n",
       "\t<tr><td>d         </td><td>-0.5297717</td><td>FALSE     </td><td>1.186634  </td><td>3         </td></tr>\n",
       "\t<tr><td>e         </td><td> 1.2211796</td><td>FALSE     </td><td>1.100507  </td><td>4         </td></tr>\n",
       "</tbody>\n",
       "</table>\n"
      ],
      "text/latex": [
       "\\begin{tabular}{r|lllll}\n",
       " x & y.x & z.x & z.y & y.y\\\\\n",
       "\\hline\n",
       "\t c          & -1.1114858 & FALSE      & 2.930147   & 1         \\\\\n",
       "\t d          & -0.5297717 & FALSE      & 1.186634   & 3         \\\\\n",
       "\t e          &  1.2211796 & FALSE      & 1.100507   & 4         \\\\\n",
       "\\end{tabular}\n"
      ],
      "text/markdown": [
       "\n",
       "x | y.x | z.x | z.y | y.y | \n",
       "|---|---|---|\n",
       "| c          | -1.1114858 | FALSE      | 2.930147   | 1          | \n",
       "| d          | -0.5297717 | FALSE      | 1.186634   | 3          | \n",
       "| e          |  1.2211796 | FALSE      | 1.100507   | 4          | \n",
       "\n",
       "\n"
      ],
      "text/plain": [
       "  x y.x        z.x   z.y      y.y\n",
       "1 c -1.1114858 FALSE 2.930147 1  \n",
       "2 d -0.5297717 FALSE 1.186634 3  \n",
       "3 e  1.2211796 FALSE 1.100507 4  "
      ]
     },
     "metadata": {},
     "output_type": "display_data"
    }
   ],
   "source": [
    "# rbind():\n",
    "# Esta función concatena vectores para formar una matriz enlistándolos fila por fila.\n",
    "rbind(1:14, 1:7)\n",
    "\n",
    "# cbind():\n",
    "# Tiene la misma labor que la función rbind() solo que la concatenación la hace columna\n",
    "# por columna\n",
    "\n",
    "# merge():\n",
    "# Cuando dos data frames comparten columnas, se pueden fusionar usando la función mege(), \n",
    "# la cual provee una gran variedad de opciones para realizar combinaciones de diversos\n",
    "# estilos. Para unir dos data frames es necesario especificar qué columnas contienen los \n",
    "# valores clave pra que coincidan. Por defecto, la función merge() utiliza todas las\n",
    "# funcines comunes de los dos data frame, pero más comúnmente solo querrá usar una \n",
    "# única columna de ID compartido.\n",
    "my_dataframe <- data.frame(\n",
    "  x = letters[1:5],\n",
    "  y = rnorm(5),\n",
    "  z = runif(5) > 0.5\n",
    ")\n",
    "my_dataframe2 <- data.frame( \n",
    "  z = rlnorm(5), \n",
    "  y = sample(5), \n",
    "  x = letters[3:7]\n",
    ")\n",
    "merge(my_dataframe, my_dataframe2, by = \"x\")\n",
    "# Hemos especificado que la columna x contiene nuestros IDs usando el argumento \"by\". \n"
   ]
  },
  {
   "cell_type": "markdown",
   "metadata": {},
   "source": [
    "3)\n",
    "\n",
    "a)  Construye  y almacena una matriz $4 \\times 2$ que se completa  por  fila con los valores $4.3, 3.1, 8.2, 8.2, 3.2, 0.9, 1.6$ y $6.5$, en ese orden.\n"
   ]
  },
  {
   "cell_type": "code",
   "execution_count": 19,
   "metadata": {},
   "outputs": [
    {
     "data": {
      "text/html": [
       "<table>\n",
       "<tbody>\n",
       "\t<tr><td>4.3</td><td>3.1</td></tr>\n",
       "\t<tr><td>8.2</td><td>8.2</td></tr>\n",
       "\t<tr><td>3.2</td><td>0.9</td></tr>\n",
       "\t<tr><td>1.6</td><td>6.5</td></tr>\n",
       "</tbody>\n",
       "</table>\n"
      ],
      "text/latex": [
       "\\begin{tabular}{ll}\n",
       "\t 4.3 & 3.1\\\\\n",
       "\t 8.2 & 8.2\\\\\n",
       "\t 3.2 & 0.9\\\\\n",
       "\t 1.6 & 6.5\\\\\n",
       "\\end{tabular}\n"
      ],
      "text/markdown": [
       "\n",
       "| 4.3 | 3.1 | \n",
       "| 8.2 | 8.2 | \n",
       "| 3.2 | 0.9 | \n",
       "| 1.6 | 6.5 | \n",
       "\n",
       "\n"
      ],
      "text/plain": [
       "     [,1] [,2]\n",
       "[1,] 4.3  3.1 \n",
       "[2,] 8.2  8.2 \n",
       "[3,] 3.2  0.9 \n",
       "[4,] 1.6  6.5 "
      ]
     },
     "metadata": {},
     "output_type": "display_data"
    }
   ],
   "source": [
    "A <- matrix(data = c(4.3, 3.1, 8.2, 8.2, 3.2, 0.9, 1.6, 6.5), \n",
    "            nrow = 4, ncol = 2, byrow = TRUE)\n",
    "A"
   ]
  },
  {
   "cell_type": "markdown",
   "metadata": {},
   "source": [
    "b) Confirma que las dimensiones de la matriz de (a) son $3 \\times  2$ si se elimina una fila.\n"
   ]
  },
  {
   "cell_type": "code",
   "execution_count": 20,
   "metadata": {},
   "outputs": [
    {
     "data": {
      "text/html": [
       "<ol class=list-inline>\n",
       "\t<li>3</li>\n",
       "\t<li>2</li>\n",
       "</ol>\n"
      ],
      "text/latex": [
       "\\begin{enumerate*}\n",
       "\\item 3\n",
       "\\item 2\n",
       "\\end{enumerate*}\n"
      ],
      "text/markdown": [
       "1. 3\n",
       "2. 2\n",
       "\n",
       "\n"
      ],
      "text/plain": [
       "[1] 3 2"
      ]
     },
     "metadata": {},
     "output_type": "display_data"
    }
   ],
   "source": [
    "dim(A[-1,])  # hemos eliminado la primera fila"
   ]
  },
  {
   "cell_type": "markdown",
   "metadata": {},
   "source": [
    "c) Sobrescribe la segunda columna de la matriz de (a) con esa misma columna ordenada de menor a mayor."
   ]
  },
  {
   "cell_type": "code",
   "execution_count": 21,
   "metadata": {},
   "outputs": [
    {
     "data": {
      "text/html": [
       "<ol class=list-inline>\n",
       "\t<li>0.9</li>\n",
       "\t<li>3.1</li>\n",
       "\t<li>6.5</li>\n",
       "\t<li>8.2</li>\n",
       "</ol>\n"
      ],
      "text/latex": [
       "\\begin{enumerate*}\n",
       "\\item 0.9\n",
       "\\item 3.1\n",
       "\\item 6.5\n",
       "\\item 8.2\n",
       "\\end{enumerate*}\n"
      ],
      "text/markdown": [
       "1. 0.9\n",
       "2. 3.1\n",
       "3. 6.5\n",
       "4. 8.2\n",
       "\n",
       "\n"
      ],
      "text/plain": [
       "[1] 0.9 3.1 6.5 8.2"
      ]
     },
     "metadata": {},
     "output_type": "display_data"
    }
   ],
   "source": [
    "(A[, 2] <- sort(A[, 2]))"
   ]
  },
  {
   "cell_type": "markdown",
   "metadata": {},
   "source": [
    "d) ¿Qué devuelve $R$ si se elimina la cuarta fila y la primera columna de (c)?. Utiliza $\\texttt{matrix}$ para asegurar que el resultado sea una matriz de una sola columna, en lugar de un vector."
   ]
  },
  {
   "cell_type": "code",
   "execution_count": 22,
   "metadata": {},
   "outputs": [
    {
     "data": {
      "text/html": [
       "<ol class=list-inline>\n",
       "\t<li>0.9</li>\n",
       "\t<li>3.1</li>\n",
       "\t<li>6.5</li>\n",
       "</ol>\n"
      ],
      "text/latex": [
       "\\begin{enumerate*}\n",
       "\\item 0.9\n",
       "\\item 3.1\n",
       "\\item 6.5\n",
       "\\end{enumerate*}\n"
      ],
      "text/markdown": [
       "1. 0.9\n",
       "2. 3.1\n",
       "3. 6.5\n",
       "\n",
       "\n"
      ],
      "text/plain": [
       "[1] 0.9 3.1 6.5"
      ]
     },
     "metadata": {},
     "output_type": "display_data"
    }
   ],
   "source": [
    "A[-4, -1]"
   ]
  },
  {
   "cell_type": "markdown",
   "metadata": {},
   "source": [
    "e) Guarde los cuatro elementos inferiores de (c) como una nueva matriz $2\\times 2$.\n"
   ]
  },
  {
   "cell_type": "code",
   "execution_count": 23,
   "metadata": {},
   "outputs": [
    {
     "data": {
      "text/html": [
       "<table>\n",
       "<tbody>\n",
       "\t<tr><td>3.2</td><td>6.5</td></tr>\n",
       "\t<tr><td>1.6</td><td>8.2</td></tr>\n",
       "</tbody>\n",
       "</table>\n"
      ],
      "text/latex": [
       "\\begin{tabular}{ll}\n",
       "\t 3.2 & 6.5\\\\\n",
       "\t 1.6 & 8.2\\\\\n",
       "\\end{tabular}\n"
      ],
      "text/markdown": [
       "\n",
       "| 3.2 | 6.5 | \n",
       "| 1.6 | 8.2 | \n",
       "\n",
       "\n"
      ],
      "text/plain": [
       "     [,1] [,2]\n",
       "[1,] 3.2  6.5 \n",
       "[2,] 1.6  8.2 "
      ]
     },
     "metadata": {},
     "output_type": "display_data"
    },
    {
     "data": {
      "text/html": [
       "<ol class=list-inline>\n",
       "\t<li>2</li>\n",
       "\t<li>2</li>\n",
       "</ol>\n"
      ],
      "text/latex": [
       "\\begin{enumerate*}\n",
       "\\item 2\n",
       "\\item 2\n",
       "\\end{enumerate*}\n"
      ],
      "text/markdown": [
       "1. 2\n",
       "2. 2\n",
       "\n",
       "\n"
      ],
      "text/plain": [
       "[1] 2 2"
      ]
     },
     "metadata": {},
     "output_type": "display_data"
    }
   ],
   "source": [
    "(B <- A[3:4,])\n",
    "dim(B)"
   ]
  },
  {
   "cell_type": "markdown",
   "metadata": {},
   "source": [
    "f) Sobrescribe en este orden los elementos de (c) en las posiciones $(4, 2), (1, 2), (4, 1)$ y $(1, 1)$ con $\\frac{1}{2}$ de los dos valores de la diagonal de (e).\n"
   ]
  },
  {
   "cell_type": "code",
   "execution_count": 24,
   "metadata": {},
   "outputs": [
    {
     "data": {
      "text/html": [
       "<table>\n",
       "<tbody>\n",
       "\t<tr><td>-4.1</td><td>-4.1</td></tr>\n",
       "\t<tr><td> 8.2</td><td> 3.1</td></tr>\n",
       "\t<tr><td> 3.2</td><td> 6.5</td></tr>\n",
       "\t<tr><td>-1.6</td><td>-1.6</td></tr>\n",
       "</tbody>\n",
       "</table>\n"
      ],
      "text/latex": [
       "\\begin{tabular}{ll}\n",
       "\t -4.1 & -4.1\\\\\n",
       "\t  8.2 &  3.1\\\\\n",
       "\t  3.2 &  6.5\\\\\n",
       "\t -1.6 & -1.6\\\\\n",
       "\\end{tabular}\n"
      ],
      "text/markdown": [
       "\n",
       "| -4.1 | -4.1 | \n",
       "|  8.2 |  3.1 | \n",
       "|  3.2 |  6.5 | \n",
       "| -1.6 | -1.6 | \n",
       "\n",
       "\n"
      ],
      "text/plain": [
       "     [,1] [,2]\n",
       "[1,] -4.1 -4.1\n",
       "[2,]  8.2  3.1\n",
       "[3,]  3.2  6.5\n",
       "[4,] -1.6 -1.6"
      ]
     },
     "metadata": {},
     "output_type": "display_data"
    }
   ],
   "source": [
    "A[c(4, 1), 2:1] <- (-0.5)*diag(B)\n",
    "A"
   ]
  },
  {
   "cell_type": "markdown",
   "metadata": {},
   "source": [
    "4.Calcula lo siguiente:\n",
    "\n",
    "$$\\dfrac{2}{7}\\begin{bmatrix}\n",
    "        1 & 2  \\\\[0.3em]\n",
    "        2 &  4 \\\\[0.3em]\n",
    "        7 & 6 \n",
    "     \\end{bmatrix} - \\begin{bmatrix}\n",
    "        10 & 20  \\\\[0.3em]\n",
    "        30 &  40 \\\\[0.3em]\n",
    "        50 & 60 \n",
    "\\end{bmatrix}$$"
   ]
  },
  {
   "cell_type": "code",
   "execution_count": 25,
   "metadata": {},
   "outputs": [
    {
     "data": {
      "text/html": [
       "<table>\n",
       "<tbody>\n",
       "\t<tr><td>1</td><td>2</td></tr>\n",
       "\t<tr><td>2</td><td>4</td></tr>\n",
       "\t<tr><td>7</td><td>6</td></tr>\n",
       "</tbody>\n",
       "</table>\n"
      ],
      "text/latex": [
       "\\begin{tabular}{ll}\n",
       "\t 1 & 2\\\\\n",
       "\t 2 & 4\\\\\n",
       "\t 7 & 6\\\\\n",
       "\\end{tabular}\n"
      ],
      "text/markdown": [
       "\n",
       "| 1 | 2 | \n",
       "| 2 | 4 | \n",
       "| 7 | 6 | \n",
       "\n",
       "\n"
      ],
      "text/plain": [
       "     [,1] [,2]\n",
       "[1,] 1    2   \n",
       "[2,] 2    4   \n",
       "[3,] 7    6   "
      ]
     },
     "metadata": {},
     "output_type": "display_data"
    },
    {
     "data": {
      "text/html": [
       "<table>\n",
       "<tbody>\n",
       "\t<tr><td>1</td><td>2</td></tr>\n",
       "\t<tr><td>3</td><td>4</td></tr>\n",
       "\t<tr><td>5</td><td>6</td></tr>\n",
       "</tbody>\n",
       "</table>\n"
      ],
      "text/latex": [
       "\\begin{tabular}{ll}\n",
       "\t 1 & 2\\\\\n",
       "\t 3 & 4\\\\\n",
       "\t 5 & 6\\\\\n",
       "\\end{tabular}\n"
      ],
      "text/markdown": [
       "\n",
       "| 1 | 2 | \n",
       "| 3 | 4 | \n",
       "| 5 | 6 | \n",
       "\n",
       "\n"
      ],
      "text/plain": [
       "     [,1] [,2]\n",
       "[1,] 1    2   \n",
       "[2,] 3    4   \n",
       "[3,] 5    6   "
      ]
     },
     "metadata": {},
     "output_type": "display_data"
    },
    {
     "data": {
      "text/html": [
       "<table>\n",
       "<tbody>\n",
       "\t<tr><td> -9.714286</td><td>-19.42857 </td></tr>\n",
       "\t<tr><td>-29.428571</td><td>-38.85714 </td></tr>\n",
       "\t<tr><td>-48.000000</td><td>-58.28571 </td></tr>\n",
       "</tbody>\n",
       "</table>\n"
      ],
      "text/latex": [
       "\\begin{tabular}{ll}\n",
       "\t  -9.714286 & -19.42857 \\\\\n",
       "\t -29.428571 & -38.85714 \\\\\n",
       "\t -48.000000 & -58.28571 \\\\\n",
       "\\end{tabular}\n"
      ],
      "text/markdown": [
       "\n",
       "|  -9.714286 | -19.42857  | \n",
       "| -29.428571 | -38.85714  | \n",
       "| -48.000000 | -58.28571  | \n",
       "\n",
       "\n"
      ],
      "text/plain": [
       "     [,1]       [,2]     \n",
       "[1,]  -9.714286 -19.42857\n",
       "[2,] -29.428571 -38.85714\n",
       "[3,] -48.000000 -58.28571"
      ]
     },
     "metadata": {},
     "output_type": "display_data"
    }
   ],
   "source": [
    "(A <- cbind(c(1, 2, 7), c(2, 4, 6)))\n",
    "(B <- matrix(data = c(1, 2, 3, 4, 5, 6), nrow = 3, ncol = 2, byrow = TRUE))\n",
    "(2/7)*A - 10* B"
   ]
  },
  {
   "cell_type": "markdown",
   "metadata": {},
   "source": [
    "5.Almacena estas dos matrices:\n",
    "\n",
    "$$A = \\begin{bmatrix}\n",
    "1 \\\\[0.3em]\n",
    "2 \\\\[0.3em]\n",
    "7 \n",
    "\\end{bmatrix}\\qquad B = \\begin{bmatrix}\n",
    "3 \\\\[0.3em]\n",
    "4 \\\\[0.3em]\n",
    "8 \n",
    "\\end{bmatrix}$$\n",
    "\n",
    " ¿Cuál de las siguientes multiplicaciones son posibles?. Para los que son, calcula el resultado.\n"
   ]
  },
  {
   "cell_type": "code",
   "execution_count": 26,
   "metadata": {},
   "outputs": [
    {
     "data": {
      "text/html": [
       "<table>\n",
       "<tbody>\n",
       "\t<tr><td>1</td></tr>\n",
       "\t<tr><td>2</td></tr>\n",
       "\t<tr><td>7</td></tr>\n",
       "</tbody>\n",
       "</table>\n"
      ],
      "text/latex": [
       "\\begin{tabular}{l}\n",
       "\t 1\\\\\n",
       "\t 2\\\\\n",
       "\t 7\\\\\n",
       "\\end{tabular}\n"
      ],
      "text/markdown": [
       "\n",
       "| 1 | \n",
       "| 2 | \n",
       "| 7 | \n",
       "\n",
       "\n"
      ],
      "text/plain": [
       "     [,1]\n",
       "[1,] 1   \n",
       "[2,] 2   \n",
       "[3,] 7   "
      ]
     },
     "metadata": {},
     "output_type": "display_data"
    },
    {
     "data": {
      "text/html": [
       "<table>\n",
       "<tbody>\n",
       "\t<tr><td>3</td></tr>\n",
       "\t<tr><td>4</td></tr>\n",
       "\t<tr><td>8</td></tr>\n",
       "</tbody>\n",
       "</table>\n"
      ],
      "text/latex": [
       "\\begin{tabular}{l}\n",
       "\t 3\\\\\n",
       "\t 4\\\\\n",
       "\t 8\\\\\n",
       "\\end{tabular}\n"
      ],
      "text/markdown": [
       "\n",
       "| 3 | \n",
       "| 4 | \n",
       "| 8 | \n",
       "\n",
       "\n"
      ],
      "text/plain": [
       "     [,1]\n",
       "[1,] 3   \n",
       "[2,] 4   \n",
       "[3,] 8   "
      ]
     },
     "metadata": {},
     "output_type": "display_data"
    }
   ],
   "source": [
    "(A <- matrix(data = c(1, 2, 7), nrow = 3, ncol = 1))\n",
    "(B <- matrix(data = c(3, 4, 8), nrow = 3, ncol = 1))"
   ]
  },
  {
   "cell_type": "markdown",
   "metadata": {},
   "source": [
    "$A \\cdot B$"
   ]
  },
  {
   "cell_type": "code",
   "execution_count": 27,
   "metadata": {},
   "outputs": [
    {
     "data": {
      "text/html": [
       "FALSE"
      ],
      "text/latex": [
       "FALSE"
      ],
      "text/markdown": [
       "FALSE"
      ],
      "text/plain": [
       "[1] FALSE"
      ]
     },
     "metadata": {},
     "output_type": "display_data"
    }
   ],
   "source": [
    "# No es posible calcular el resultado pues: \n",
    "ncol(A) == nrow(B) # nos da FALSE"
   ]
  },
  {
   "cell_type": "markdown",
   "metadata": {},
   "source": [
    "$A^T \\cdot B$"
   ]
  },
  {
   "cell_type": "code",
   "execution_count": 28,
   "metadata": {},
   "outputs": [
    {
     "data": {
      "text/html": [
       "<table>\n",
       "<tbody>\n",
       "\t<tr><td>67</td></tr>\n",
       "</tbody>\n",
       "</table>\n"
      ],
      "text/latex": [
       "\\begin{tabular}{l}\n",
       "\t 67\\\\\n",
       "\\end{tabular}\n"
      ],
      "text/markdown": [
       "\n",
       "| 67 | \n",
       "\n",
       "\n"
      ],
      "text/plain": [
       "     [,1]\n",
       "[1,] 67  "
      ]
     },
     "metadata": {},
     "output_type": "display_data"
    }
   ],
   "source": [
    "t(A) %*% B"
   ]
  },
  {
   "cell_type": "markdown",
   "metadata": {},
   "source": [
    "$B^T \\cdot (A \\cdot A^T)$"
   ]
  },
  {
   "cell_type": "code",
   "execution_count": 29,
   "metadata": {},
   "outputs": [
    {
     "data": {
      "text/html": [
       "<table>\n",
       "<tbody>\n",
       "\t<tr><td>67 </td><td>134</td><td>469</td></tr>\n",
       "</tbody>\n",
       "</table>\n"
      ],
      "text/latex": [
       "\\begin{tabular}{lll}\n",
       "\t 67  & 134 & 469\\\\\n",
       "\\end{tabular}\n"
      ],
      "text/markdown": [
       "\n",
       "| 67  | 134 | 469 | \n",
       "\n",
       "\n"
      ],
      "text/plain": [
       "     [,1] [,2] [,3]\n",
       "[1,] 67   134  469 "
      ]
     },
     "metadata": {},
     "output_type": "display_data"
    }
   ],
   "source": [
    "t(B) %*% (A %*% t(A))"
   ]
  },
  {
   "cell_type": "markdown",
   "metadata": {},
   "source": [
    " $[(B\\cdot B^T) + (A \\cdot A^T)- 100I_3 ]^{-1}$"
   ]
  },
  {
   "cell_type": "code",
   "execution_count": 30,
   "metadata": {},
   "outputs": [
    {
     "data": {
      "text/html": [
       "<table>\n",
       "<tbody>\n",
       "\t<tr><td>-0.007923676</td><td> 0.003123274</td><td>0.007843334 </td></tr>\n",
       "\t<tr><td> 0.003123274</td><td>-0.005350239</td><td>0.011483806 </td></tr>\n",
       "\t<tr><td> 0.007843334</td><td> 0.011483806</td><td>0.017584735 </td></tr>\n",
       "</tbody>\n",
       "</table>\n"
      ],
      "text/latex": [
       "\\begin{tabular}{lll}\n",
       "\t -0.007923676 &  0.003123274 & 0.007843334 \\\\\n",
       "\t  0.003123274 & -0.005350239 & 0.011483806 \\\\\n",
       "\t  0.007843334 &  0.011483806 & 0.017584735 \\\\\n",
       "\\end{tabular}\n"
      ],
      "text/markdown": [
       "\n",
       "| -0.007923676 |  0.003123274 | 0.007843334  | \n",
       "|  0.003123274 | -0.005350239 | 0.011483806  | \n",
       "|  0.007843334 |  0.011483806 | 0.017584735  | \n",
       "\n",
       "\n"
      ],
      "text/plain": [
       "     [,1]         [,2]         [,3]       \n",
       "[1,] -0.007923676  0.003123274 0.007843334\n",
       "[2,]  0.003123274 -0.005350239 0.011483806\n",
       "[3,]  0.007843334  0.011483806 0.017584735"
      ]
     },
     "metadata": {},
     "output_type": "display_data"
    }
   ],
   "source": [
    "solve((B %*% t(B)) + (A %*% t(A)) - 100*diag(x = 3))"
   ]
  },
  {
   "cell_type": "markdown",
   "metadata": {},
   "source": [
    "6.La función $\\texttt{diag}$ tiene varios usos, uno de los cuales es tomar un vector como  entrada y crea una matriz cuadrada con ese vector en la diagonal. Crea una matriz  $21 \\times 21$ con la secuencia de $10$ a $0$ y a $11$ (es decir, $11, 10, \\dots, 1, 0, 1, \\dots, 11$).\n"
   ]
  },
  {
   "cell_type": "code",
   "execution_count": 31,
   "metadata": {},
   "outputs": [
    {
     "data": {
      "text/html": [
       "<table>\n",
       "<tbody>\n",
       "\t<tr><td>10</td><td>0 </td><td>0 </td><td>0 </td><td>0 </td><td>0 </td><td>0 </td><td>0 </td><td>0 </td><td>0 </td><td>⋯ </td><td>0 </td><td>0 </td><td>0 </td><td>0 </td><td>0 </td><td>0 </td><td>0 </td><td>0 </td><td> 0</td><td> 0</td></tr>\n",
       "\t<tr><td> 0</td><td>9 </td><td>0 </td><td>0 </td><td>0 </td><td>0 </td><td>0 </td><td>0 </td><td>0 </td><td>0 </td><td>⋯ </td><td>0 </td><td>0 </td><td>0 </td><td>0 </td><td>0 </td><td>0 </td><td>0 </td><td>0 </td><td> 0</td><td> 0</td></tr>\n",
       "\t<tr><td> 0</td><td>0 </td><td>8 </td><td>0 </td><td>0 </td><td>0 </td><td>0 </td><td>0 </td><td>0 </td><td>0 </td><td>⋯ </td><td>0 </td><td>0 </td><td>0 </td><td>0 </td><td>0 </td><td>0 </td><td>0 </td><td>0 </td><td> 0</td><td> 0</td></tr>\n",
       "\t<tr><td> 0</td><td>0 </td><td>0 </td><td>7 </td><td>0 </td><td>0 </td><td>0 </td><td>0 </td><td>0 </td><td>0 </td><td>⋯ </td><td>0 </td><td>0 </td><td>0 </td><td>0 </td><td>0 </td><td>0 </td><td>0 </td><td>0 </td><td> 0</td><td> 0</td></tr>\n",
       "\t<tr><td> 0</td><td>0 </td><td>0 </td><td>0 </td><td>6 </td><td>0 </td><td>0 </td><td>0 </td><td>0 </td><td>0 </td><td>⋯ </td><td>0 </td><td>0 </td><td>0 </td><td>0 </td><td>0 </td><td>0 </td><td>0 </td><td>0 </td><td> 0</td><td> 0</td></tr>\n",
       "\t<tr><td> 0</td><td>0 </td><td>0 </td><td>0 </td><td>0 </td><td>5 </td><td>0 </td><td>0 </td><td>0 </td><td>0 </td><td>⋯ </td><td>0 </td><td>0 </td><td>0 </td><td>0 </td><td>0 </td><td>0 </td><td>0 </td><td>0 </td><td> 0</td><td> 0</td></tr>\n",
       "\t<tr><td> 0</td><td>0 </td><td>0 </td><td>0 </td><td>0 </td><td>0 </td><td>4 </td><td>0 </td><td>0 </td><td>0 </td><td>⋯ </td><td>0 </td><td>0 </td><td>0 </td><td>0 </td><td>0 </td><td>0 </td><td>0 </td><td>0 </td><td> 0</td><td> 0</td></tr>\n",
       "\t<tr><td> 0</td><td>0 </td><td>0 </td><td>0 </td><td>0 </td><td>0 </td><td>0 </td><td>3 </td><td>0 </td><td>0 </td><td>⋯ </td><td>0 </td><td>0 </td><td>0 </td><td>0 </td><td>0 </td><td>0 </td><td>0 </td><td>0 </td><td> 0</td><td> 0</td></tr>\n",
       "\t<tr><td> 0</td><td>0 </td><td>0 </td><td>0 </td><td>0 </td><td>0 </td><td>0 </td><td>0 </td><td>2 </td><td>0 </td><td>⋯ </td><td>0 </td><td>0 </td><td>0 </td><td>0 </td><td>0 </td><td>0 </td><td>0 </td><td>0 </td><td> 0</td><td> 0</td></tr>\n",
       "\t<tr><td> 0</td><td>0 </td><td>0 </td><td>0 </td><td>0 </td><td>0 </td><td>0 </td><td>0 </td><td>0 </td><td>1 </td><td>⋯ </td><td>0 </td><td>0 </td><td>0 </td><td>0 </td><td>0 </td><td>0 </td><td>0 </td><td>0 </td><td> 0</td><td> 0</td></tr>\n",
       "\t<tr><td> 0</td><td>0 </td><td>0 </td><td>0 </td><td>0 </td><td>0 </td><td>0 </td><td>0 </td><td>0 </td><td>0 </td><td>⋯ </td><td>0 </td><td>0 </td><td>0 </td><td>0 </td><td>0 </td><td>0 </td><td>0 </td><td>0 </td><td> 0</td><td> 0</td></tr>\n",
       "\t<tr><td> 0</td><td>0 </td><td>0 </td><td>0 </td><td>0 </td><td>0 </td><td>0 </td><td>0 </td><td>0 </td><td>0 </td><td>⋯ </td><td>0 </td><td>0 </td><td>0 </td><td>0 </td><td>0 </td><td>0 </td><td>0 </td><td>0 </td><td> 0</td><td> 0</td></tr>\n",
       "\t<tr><td> 0</td><td>0 </td><td>0 </td><td>0 </td><td>0 </td><td>0 </td><td>0 </td><td>0 </td><td>0 </td><td>0 </td><td>⋯ </td><td>2 </td><td>0 </td><td>0 </td><td>0 </td><td>0 </td><td>0 </td><td>0 </td><td>0 </td><td> 0</td><td> 0</td></tr>\n",
       "\t<tr><td> 0</td><td>0 </td><td>0 </td><td>0 </td><td>0 </td><td>0 </td><td>0 </td><td>0 </td><td>0 </td><td>0 </td><td>⋯ </td><td>0 </td><td>3 </td><td>0 </td><td>0 </td><td>0 </td><td>0 </td><td>0 </td><td>0 </td><td> 0</td><td> 0</td></tr>\n",
       "\t<tr><td> 0</td><td>0 </td><td>0 </td><td>0 </td><td>0 </td><td>0 </td><td>0 </td><td>0 </td><td>0 </td><td>0 </td><td>⋯ </td><td>0 </td><td>0 </td><td>4 </td><td>0 </td><td>0 </td><td>0 </td><td>0 </td><td>0 </td><td> 0</td><td> 0</td></tr>\n",
       "\t<tr><td> 0</td><td>0 </td><td>0 </td><td>0 </td><td>0 </td><td>0 </td><td>0 </td><td>0 </td><td>0 </td><td>0 </td><td>⋯ </td><td>0 </td><td>0 </td><td>0 </td><td>5 </td><td>0 </td><td>0 </td><td>0 </td><td>0 </td><td> 0</td><td> 0</td></tr>\n",
       "\t<tr><td> 0</td><td>0 </td><td>0 </td><td>0 </td><td>0 </td><td>0 </td><td>0 </td><td>0 </td><td>0 </td><td>0 </td><td>⋯ </td><td>0 </td><td>0 </td><td>0 </td><td>0 </td><td>6 </td><td>0 </td><td>0 </td><td>0 </td><td> 0</td><td> 0</td></tr>\n",
       "\t<tr><td> 0</td><td>0 </td><td>0 </td><td>0 </td><td>0 </td><td>0 </td><td>0 </td><td>0 </td><td>0 </td><td>0 </td><td>⋯ </td><td>0 </td><td>0 </td><td>0 </td><td>0 </td><td>0 </td><td>7 </td><td>0 </td><td>0 </td><td> 0</td><td> 0</td></tr>\n",
       "\t<tr><td> 0</td><td>0 </td><td>0 </td><td>0 </td><td>0 </td><td>0 </td><td>0 </td><td>0 </td><td>0 </td><td>0 </td><td>⋯ </td><td>0 </td><td>0 </td><td>0 </td><td>0 </td><td>0 </td><td>0 </td><td>8 </td><td>0 </td><td> 0</td><td> 0</td></tr>\n",
       "\t<tr><td> 0</td><td>0 </td><td>0 </td><td>0 </td><td>0 </td><td>0 </td><td>0 </td><td>0 </td><td>0 </td><td>0 </td><td>⋯ </td><td>0 </td><td>0 </td><td>0 </td><td>0 </td><td>0 </td><td>0 </td><td>0 </td><td>9 </td><td> 0</td><td> 0</td></tr>\n",
       "\t<tr><td> 0</td><td>0 </td><td>0 </td><td>0 </td><td>0 </td><td>0 </td><td>0 </td><td>0 </td><td>0 </td><td>0 </td><td>⋯ </td><td>0 </td><td>0 </td><td>0 </td><td>0 </td><td>0 </td><td>0 </td><td>0 </td><td>0 </td><td>10</td><td> 0</td></tr>\n",
       "\t<tr><td> 0</td><td>0 </td><td>0 </td><td>0 </td><td>0 </td><td>0 </td><td>0 </td><td>0 </td><td>0 </td><td>0 </td><td>⋯ </td><td>0 </td><td>0 </td><td>0 </td><td>0 </td><td>0 </td><td>0 </td><td>0 </td><td>0 </td><td> 0</td><td>11</td></tr>\n",
       "</tbody>\n",
       "</table>\n"
      ],
      "text/latex": [
       "\\begin{tabular}{llllllllllllllllllllll}\n",
       "\t 10 & 0  & 0  & 0  & 0  & 0  & 0  & 0  & 0  & 0  & ⋯  & 0  & 0  & 0  & 0  & 0  & 0  & 0  & 0  &  0 &  0\\\\\n",
       "\t  0 & 9  & 0  & 0  & 0  & 0  & 0  & 0  & 0  & 0  & ⋯  & 0  & 0  & 0  & 0  & 0  & 0  & 0  & 0  &  0 &  0\\\\\n",
       "\t  0 & 0  & 8  & 0  & 0  & 0  & 0  & 0  & 0  & 0  & ⋯  & 0  & 0  & 0  & 0  & 0  & 0  & 0  & 0  &  0 &  0\\\\\n",
       "\t  0 & 0  & 0  & 7  & 0  & 0  & 0  & 0  & 0  & 0  & ⋯  & 0  & 0  & 0  & 0  & 0  & 0  & 0  & 0  &  0 &  0\\\\\n",
       "\t  0 & 0  & 0  & 0  & 6  & 0  & 0  & 0  & 0  & 0  & ⋯  & 0  & 0  & 0  & 0  & 0  & 0  & 0  & 0  &  0 &  0\\\\\n",
       "\t  0 & 0  & 0  & 0  & 0  & 5  & 0  & 0  & 0  & 0  & ⋯  & 0  & 0  & 0  & 0  & 0  & 0  & 0  & 0  &  0 &  0\\\\\n",
       "\t  0 & 0  & 0  & 0  & 0  & 0  & 4  & 0  & 0  & 0  & ⋯  & 0  & 0  & 0  & 0  & 0  & 0  & 0  & 0  &  0 &  0\\\\\n",
       "\t  0 & 0  & 0  & 0  & 0  & 0  & 0  & 3  & 0  & 0  & ⋯  & 0  & 0  & 0  & 0  & 0  & 0  & 0  & 0  &  0 &  0\\\\\n",
       "\t  0 & 0  & 0  & 0  & 0  & 0  & 0  & 0  & 2  & 0  & ⋯  & 0  & 0  & 0  & 0  & 0  & 0  & 0  & 0  &  0 &  0\\\\\n",
       "\t  0 & 0  & 0  & 0  & 0  & 0  & 0  & 0  & 0  & 1  & ⋯  & 0  & 0  & 0  & 0  & 0  & 0  & 0  & 0  &  0 &  0\\\\\n",
       "\t  0 & 0  & 0  & 0  & 0  & 0  & 0  & 0  & 0  & 0  & ⋯  & 0  & 0  & 0  & 0  & 0  & 0  & 0  & 0  &  0 &  0\\\\\n",
       "\t  0 & 0  & 0  & 0  & 0  & 0  & 0  & 0  & 0  & 0  & ⋯  & 0  & 0  & 0  & 0  & 0  & 0  & 0  & 0  &  0 &  0\\\\\n",
       "\t  0 & 0  & 0  & 0  & 0  & 0  & 0  & 0  & 0  & 0  & ⋯  & 2  & 0  & 0  & 0  & 0  & 0  & 0  & 0  &  0 &  0\\\\\n",
       "\t  0 & 0  & 0  & 0  & 0  & 0  & 0  & 0  & 0  & 0  & ⋯  & 0  & 3  & 0  & 0  & 0  & 0  & 0  & 0  &  0 &  0\\\\\n",
       "\t  0 & 0  & 0  & 0  & 0  & 0  & 0  & 0  & 0  & 0  & ⋯  & 0  & 0  & 4  & 0  & 0  & 0  & 0  & 0  &  0 &  0\\\\\n",
       "\t  0 & 0  & 0  & 0  & 0  & 0  & 0  & 0  & 0  & 0  & ⋯  & 0  & 0  & 0  & 5  & 0  & 0  & 0  & 0  &  0 &  0\\\\\n",
       "\t  0 & 0  & 0  & 0  & 0  & 0  & 0  & 0  & 0  & 0  & ⋯  & 0  & 0  & 0  & 0  & 6  & 0  & 0  & 0  &  0 &  0\\\\\n",
       "\t  0 & 0  & 0  & 0  & 0  & 0  & 0  & 0  & 0  & 0  & ⋯  & 0  & 0  & 0  & 0  & 0  & 7  & 0  & 0  &  0 &  0\\\\\n",
       "\t  0 & 0  & 0  & 0  & 0  & 0  & 0  & 0  & 0  & 0  & ⋯  & 0  & 0  & 0  & 0  & 0  & 0  & 8  & 0  &  0 &  0\\\\\n",
       "\t  0 & 0  & 0  & 0  & 0  & 0  & 0  & 0  & 0  & 0  & ⋯  & 0  & 0  & 0  & 0  & 0  & 0  & 0  & 9  &  0 &  0\\\\\n",
       "\t  0 & 0  & 0  & 0  & 0  & 0  & 0  & 0  & 0  & 0  & ⋯  & 0  & 0  & 0  & 0  & 0  & 0  & 0  & 0  & 10 &  0\\\\\n",
       "\t  0 & 0  & 0  & 0  & 0  & 0  & 0  & 0  & 0  & 0  & ⋯  & 0  & 0  & 0  & 0  & 0  & 0  & 0  & 0  &  0 & 11\\\\\n",
       "\\end{tabular}\n"
      ],
      "text/markdown": [
       "\n",
       "| 10 | 0  | 0  | 0  | 0  | 0  | 0  | 0  | 0  | 0  | ⋯  | 0  | 0  | 0  | 0  | 0  | 0  | 0  | 0  |  0 |  0 | \n",
       "|  0 | 9  | 0  | 0  | 0  | 0  | 0  | 0  | 0  | 0  | ⋯  | 0  | 0  | 0  | 0  | 0  | 0  | 0  | 0  |  0 |  0 | \n",
       "|  0 | 0  | 8  | 0  | 0  | 0  | 0  | 0  | 0  | 0  | ⋯  | 0  | 0  | 0  | 0  | 0  | 0  | 0  | 0  |  0 |  0 | \n",
       "|  0 | 0  | 0  | 7  | 0  | 0  | 0  | 0  | 0  | 0  | ⋯  | 0  | 0  | 0  | 0  | 0  | 0  | 0  | 0  |  0 |  0 | \n",
       "|  0 | 0  | 0  | 0  | 6  | 0  | 0  | 0  | 0  | 0  | ⋯  | 0  | 0  | 0  | 0  | 0  | 0  | 0  | 0  |  0 |  0 | \n",
       "|  0 | 0  | 0  | 0  | 0  | 5  | 0  | 0  | 0  | 0  | ⋯  | 0  | 0  | 0  | 0  | 0  | 0  | 0  | 0  |  0 |  0 | \n",
       "|  0 | 0  | 0  | 0  | 0  | 0  | 4  | 0  | 0  | 0  | ⋯  | 0  | 0  | 0  | 0  | 0  | 0  | 0  | 0  |  0 |  0 | \n",
       "|  0 | 0  | 0  | 0  | 0  | 0  | 0  | 3  | 0  | 0  | ⋯  | 0  | 0  | 0  | 0  | 0  | 0  | 0  | 0  |  0 |  0 | \n",
       "|  0 | 0  | 0  | 0  | 0  | 0  | 0  | 0  | 2  | 0  | ⋯  | 0  | 0  | 0  | 0  | 0  | 0  | 0  | 0  |  0 |  0 | \n",
       "|  0 | 0  | 0  | 0  | 0  | 0  | 0  | 0  | 0  | 1  | ⋯  | 0  | 0  | 0  | 0  | 0  | 0  | 0  | 0  |  0 |  0 | \n",
       "|  0 | 0  | 0  | 0  | 0  | 0  | 0  | 0  | 0  | 0  | ⋯  | 0  | 0  | 0  | 0  | 0  | 0  | 0  | 0  |  0 |  0 | \n",
       "|  0 | 0  | 0  | 0  | 0  | 0  | 0  | 0  | 0  | 0  | ⋯  | 0  | 0  | 0  | 0  | 0  | 0  | 0  | 0  |  0 |  0 | \n",
       "|  0 | 0  | 0  | 0  | 0  | 0  | 0  | 0  | 0  | 0  | ⋯  | 2  | 0  | 0  | 0  | 0  | 0  | 0  | 0  |  0 |  0 | \n",
       "|  0 | 0  | 0  | 0  | 0  | 0  | 0  | 0  | 0  | 0  | ⋯  | 0  | 3  | 0  | 0  | 0  | 0  | 0  | 0  |  0 |  0 | \n",
       "|  0 | 0  | 0  | 0  | 0  | 0  | 0  | 0  | 0  | 0  | ⋯  | 0  | 0  | 4  | 0  | 0  | 0  | 0  | 0  |  0 |  0 | \n",
       "|  0 | 0  | 0  | 0  | 0  | 0  | 0  | 0  | 0  | 0  | ⋯  | 0  | 0  | 0  | 5  | 0  | 0  | 0  | 0  |  0 |  0 | \n",
       "|  0 | 0  | 0  | 0  | 0  | 0  | 0  | 0  | 0  | 0  | ⋯  | 0  | 0  | 0  | 0  | 6  | 0  | 0  | 0  |  0 |  0 | \n",
       "|  0 | 0  | 0  | 0  | 0  | 0  | 0  | 0  | 0  | 0  | ⋯  | 0  | 0  | 0  | 0  | 0  | 7  | 0  | 0  |  0 |  0 | \n",
       "|  0 | 0  | 0  | 0  | 0  | 0  | 0  | 0  | 0  | 0  | ⋯  | 0  | 0  | 0  | 0  | 0  | 0  | 8  | 0  |  0 |  0 | \n",
       "|  0 | 0  | 0  | 0  | 0  | 0  | 0  | 0  | 0  | 0  | ⋯  | 0  | 0  | 0  | 0  | 0  | 0  | 0  | 9  |  0 |  0 | \n",
       "|  0 | 0  | 0  | 0  | 0  | 0  | 0  | 0  | 0  | 0  | ⋯  | 0  | 0  | 0  | 0  | 0  | 0  | 0  | 0  | 10 |  0 | \n",
       "|  0 | 0  | 0  | 0  | 0  | 0  | 0  | 0  | 0  | 0  | ⋯  | 0  | 0  | 0  | 0  | 0  | 0  | 0  | 0  |  0 | 11 | \n",
       "\n",
       "\n"
      ],
      "text/plain": [
       "      [,1] [,2] [,3] [,4] [,5] [,6] [,7] [,8] [,9] [,10] [,11] [,12] [,13]\n",
       " [1,] 10   0    0    0    0    0    0    0    0    0     ⋯     0     0    \n",
       " [2,]  0   9    0    0    0    0    0    0    0    0     ⋯     0     0    \n",
       " [3,]  0   0    8    0    0    0    0    0    0    0     ⋯     0     0    \n",
       " [4,]  0   0    0    7    0    0    0    0    0    0     ⋯     0     0    \n",
       " [5,]  0   0    0    0    6    0    0    0    0    0     ⋯     0     0    \n",
       " [6,]  0   0    0    0    0    5    0    0    0    0     ⋯     0     0    \n",
       " [7,]  0   0    0    0    0    0    4    0    0    0     ⋯     0     0    \n",
       " [8,]  0   0    0    0    0    0    0    3    0    0     ⋯     0     0    \n",
       " [9,]  0   0    0    0    0    0    0    0    2    0     ⋯     0     0    \n",
       "[10,]  0   0    0    0    0    0    0    0    0    1     ⋯     0     0    \n",
       "[11,]  0   0    0    0    0    0    0    0    0    0     ⋯     0     0    \n",
       "[12,]  0   0    0    0    0    0    0    0    0    0     ⋯     0     0    \n",
       "[13,]  0   0    0    0    0    0    0    0    0    0     ⋯     2     0    \n",
       "[14,]  0   0    0    0    0    0    0    0    0    0     ⋯     0     3    \n",
       "[15,]  0   0    0    0    0    0    0    0    0    0     ⋯     0     0    \n",
       "[16,]  0   0    0    0    0    0    0    0    0    0     ⋯     0     0    \n",
       "[17,]  0   0    0    0    0    0    0    0    0    0     ⋯     0     0    \n",
       "[18,]  0   0    0    0    0    0    0    0    0    0     ⋯     0     0    \n",
       "[19,]  0   0    0    0    0    0    0    0    0    0     ⋯     0     0    \n",
       "[20,]  0   0    0    0    0    0    0    0    0    0     ⋯     0     0    \n",
       "[21,]  0   0    0    0    0    0    0    0    0    0     ⋯     0     0    \n",
       "[22,]  0   0    0    0    0    0    0    0    0    0     ⋯     0     0    \n",
       "      [,14] [,15] [,16] [,17] [,18] [,19] [,20] [,21]\n",
       " [1,] 0     0     0     0     0     0      0     0   \n",
       " [2,] 0     0     0     0     0     0      0     0   \n",
       " [3,] 0     0     0     0     0     0      0     0   \n",
       " [4,] 0     0     0     0     0     0      0     0   \n",
       " [5,] 0     0     0     0     0     0      0     0   \n",
       " [6,] 0     0     0     0     0     0      0     0   \n",
       " [7,] 0     0     0     0     0     0      0     0   \n",
       " [8,] 0     0     0     0     0     0      0     0   \n",
       " [9,] 0     0     0     0     0     0      0     0   \n",
       "[10,] 0     0     0     0     0     0      0     0   \n",
       "[11,] 0     0     0     0     0     0      0     0   \n",
       "[12,] 0     0     0     0     0     0      0     0   \n",
       "[13,] 0     0     0     0     0     0      0     0   \n",
       "[14,] 0     0     0     0     0     0      0     0   \n",
       "[15,] 4     0     0     0     0     0      0     0   \n",
       "[16,] 0     5     0     0     0     0      0     0   \n",
       "[17,] 0     0     6     0     0     0      0     0   \n",
       "[18,] 0     0     0     7     0     0      0     0   \n",
       "[19,] 0     0     0     0     8     0      0     0   \n",
       "[20,] 0     0     0     0     0     9      0     0   \n",
       "[21,] 0     0     0     0     0     0     10     0   \n",
       "[22,] 0     0     0     0     0     0      0    11   "
      ]
     },
     "metadata": {},
     "output_type": "display_data"
    }
   ],
   "source": [
    "diag( x = c(10:0,1:11))"
   ]
  },
  {
   "cell_type": "markdown",
   "metadata": {},
   "source": [
    "7.Para\n",
    "\n",
    "$$A = \\begin{bmatrix}\n",
    "        2 & 0 & 0  & 0    \\\\[0.3em]\n",
    "        0 & 3 & 0 & 0     \\\\[0.3em]\n",
    "        0 & 0 & 5 & 0      \\\\[0.3em]\n",
    "        0 & 0 & 0 & -1           \n",
    "\\end{bmatrix}$$\n",
    "\n",
    "Comprueba   que $A^{-1}\\cdot A -I_4$ proporciona una matriz $4 \\times 4$ de ceros.\n"
   ]
  },
  {
   "cell_type": "code",
   "execution_count": 32,
   "metadata": {},
   "outputs": [
    {
     "data": {
      "text/html": [
       "<table>\n",
       "<tbody>\n",
       "\t<tr><td>2 </td><td>0 </td><td>0 </td><td> 0</td></tr>\n",
       "\t<tr><td>0 </td><td>3 </td><td>0 </td><td> 0</td></tr>\n",
       "\t<tr><td>0 </td><td>0 </td><td>5 </td><td> 0</td></tr>\n",
       "\t<tr><td>0 </td><td>0 </td><td>0 </td><td>-1</td></tr>\n",
       "</tbody>\n",
       "</table>\n"
      ],
      "text/latex": [
       "\\begin{tabular}{llll}\n",
       "\t 2  & 0  & 0  &  0\\\\\n",
       "\t 0  & 3  & 0  &  0\\\\\n",
       "\t 0  & 0  & 5  &  0\\\\\n",
       "\t 0  & 0  & 0  & -1\\\\\n",
       "\\end{tabular}\n"
      ],
      "text/markdown": [
       "\n",
       "| 2  | 0  | 0  |  0 | \n",
       "| 0  | 3  | 0  |  0 | \n",
       "| 0  | 0  | 5  |  0 | \n",
       "| 0  | 0  | 0  | -1 | \n",
       "\n",
       "\n"
      ],
      "text/plain": [
       "     [,1] [,2] [,3] [,4]\n",
       "[1,] 2    0    0     0  \n",
       "[2,] 0    3    0     0  \n",
       "[3,] 0    0    5     0  \n",
       "[4,] 0    0    0    -1  "
      ]
     },
     "metadata": {},
     "output_type": "display_data"
    },
    {
     "data": {
      "text/html": [
       "TRUE"
      ],
      "text/latex": [
       "TRUE"
      ],
      "text/markdown": [
       "TRUE"
      ],
      "text/plain": [
       "[1] TRUE"
      ]
     },
     "metadata": {},
     "output_type": "display_data"
    }
   ],
   "source": [
    "(A <- rbind(c(2, 0, 0, 0), c(0, 3, 0, 0), c(0, 0, 5, 0), c(0, 0, 0, -1)))\n",
    "C <- (solve(A) %*% A) - diag(x = 4)   # almacenamos la operación pedida.\n",
    "B <- matrix(0, nrow = 4, ncol = 4)   # creamos a nuestra matriz de 4X4 de ceros.\n",
    "identical(B, C)  # nos retorna TRUE."
   ]
  },
  {
   "cell_type": "markdown",
   "metadata": {},
   "source": [
    "8.Usa las funciones $\\texttt{matrix()}$, $\\texttt{seq()}$ y $\\texttt{rep()}$ para construir la matrices de Hankel $5 \\times 5$.\n",
    "\n",
    "$$M = \\begin{bmatrix}\n",
    "        1 & 2 & 3  & 4 & 5         \\\\[0.3em]\n",
    "        2 & 3 & 4 & 5 & 6           \\\\[0.3em]\n",
    "        3 & 4 & 4 & 6 & 7           \\\\[0.3em]\n",
    "       4 & 5 & 6 & 7 & 8           \\\\[0.3em]\n",
    "        5 & 6 & 7 & 8 & 9           \n",
    "\\end{bmatrix}$$\n",
    "\n",
    "Convierte el código en una función que puede ser usado para construir matrices de dimensión $n \\times n$. Usa esa función para mostrar las salida de Matrices de Hankel de orden $10 \\times 10$ y $12 \\times 12$.\n"
   ]
  },
  {
   "cell_type": "code",
   "execution_count": 33,
   "metadata": {},
   "outputs": [
    {
     "data": {
      "text/html": [
       "<table>\n",
       "<tbody>\n",
       "\t<tr><td>1</td><td>2</td><td>3</td><td>4</td><td>5</td></tr>\n",
       "\t<tr><td>2</td><td>3</td><td>4</td><td>5</td><td>6</td></tr>\n",
       "\t<tr><td>3</td><td>4</td><td>5</td><td>6</td><td>7</td></tr>\n",
       "\t<tr><td>4</td><td>5</td><td>6</td><td>7</td><td>8</td></tr>\n",
       "\t<tr><td>5</td><td>6</td><td>7</td><td>8</td><td>9</td></tr>\n",
       "</tbody>\n",
       "</table>\n"
      ],
      "text/latex": [
       "\\begin{tabular}{lllll}\n",
       "\t 1 & 2 & 3 & 4 & 5\\\\\n",
       "\t 2 & 3 & 4 & 5 & 6\\\\\n",
       "\t 3 & 4 & 5 & 6 & 7\\\\\n",
       "\t 4 & 5 & 6 & 7 & 8\\\\\n",
       "\t 5 & 6 & 7 & 8 & 9\\\\\n",
       "\\end{tabular}\n"
      ],
      "text/markdown": [
       "\n",
       "| 1 | 2 | 3 | 4 | 5 | \n",
       "| 2 | 3 | 4 | 5 | 6 | \n",
       "| 3 | 4 | 5 | 6 | 7 | \n",
       "| 4 | 5 | 6 | 7 | 8 | \n",
       "| 5 | 6 | 7 | 8 | 9 | \n",
       "\n",
       "\n"
      ],
      "text/plain": [
       "     [,1] [,2] [,3] [,4] [,5]\n",
       "[1,] 1    2    3    4    5   \n",
       "[2,] 2    3    4    5    6   \n",
       "[3,] 3    4    5    6    7   \n",
       "[4,] 4    5    6    7    8   \n",
       "[5,] 5    6    7    8    9   "
      ]
     },
     "metadata": {},
     "output_type": "display_data"
    },
    {
     "data": {
      "text/html": [
       "<table>\n",
       "<tbody>\n",
       "\t<tr><td> 2</td><td> 3</td><td> 5</td><td> 7</td><td>11</td><td>13</td><td>17</td><td>23</td><td>29</td><td>31</td></tr>\n",
       "\t<tr><td> 3</td><td> 5</td><td> 7</td><td>11</td><td>13</td><td>17</td><td>23</td><td>29</td><td>31</td><td>37</td></tr>\n",
       "\t<tr><td> 5</td><td> 7</td><td>11</td><td>13</td><td>17</td><td>23</td><td>29</td><td>31</td><td>37</td><td>41</td></tr>\n",
       "\t<tr><td> 7</td><td>11</td><td>13</td><td>17</td><td>23</td><td>29</td><td>31</td><td>37</td><td>41</td><td>43</td></tr>\n",
       "\t<tr><td>11</td><td>13</td><td>17</td><td>23</td><td>29</td><td>31</td><td>37</td><td>41</td><td>43</td><td>47</td></tr>\n",
       "\t<tr><td>13</td><td>17</td><td>23</td><td>29</td><td>31</td><td>37</td><td>41</td><td>43</td><td>47</td><td>53</td></tr>\n",
       "\t<tr><td>17</td><td>23</td><td>29</td><td>31</td><td>37</td><td>41</td><td>43</td><td>47</td><td>53</td><td>59</td></tr>\n",
       "\t<tr><td>23</td><td>29</td><td>31</td><td>37</td><td>41</td><td>43</td><td>47</td><td>53</td><td>59</td><td>61</td></tr>\n",
       "\t<tr><td>29</td><td>31</td><td>37</td><td>41</td><td>43</td><td>47</td><td>53</td><td>59</td><td>61</td><td>67</td></tr>\n",
       "\t<tr><td>31</td><td>37</td><td>41</td><td>43</td><td>47</td><td>53</td><td>59</td><td>61</td><td>67</td><td>71</td></tr>\n",
       "</tbody>\n",
       "</table>\n"
      ],
      "text/latex": [
       "\\begin{tabular}{llllllllll}\n",
       "\t  2 &  3 &  5 &  7 & 11 & 13 & 17 & 23 & 29 & 31\\\\\n",
       "\t  3 &  5 &  7 & 11 & 13 & 17 & 23 & 29 & 31 & 37\\\\\n",
       "\t  5 &  7 & 11 & 13 & 17 & 23 & 29 & 31 & 37 & 41\\\\\n",
       "\t  7 & 11 & 13 & 17 & 23 & 29 & 31 & 37 & 41 & 43\\\\\n",
       "\t 11 & 13 & 17 & 23 & 29 & 31 & 37 & 41 & 43 & 47\\\\\n",
       "\t 13 & 17 & 23 & 29 & 31 & 37 & 41 & 43 & 47 & 53\\\\\n",
       "\t 17 & 23 & 29 & 31 & 37 & 41 & 43 & 47 & 53 & 59\\\\\n",
       "\t 23 & 29 & 31 & 37 & 41 & 43 & 47 & 53 & 59 & 61\\\\\n",
       "\t 29 & 31 & 37 & 41 & 43 & 47 & 53 & 59 & 61 & 67\\\\\n",
       "\t 31 & 37 & 41 & 43 & 47 & 53 & 59 & 61 & 67 & 71\\\\\n",
       "\\end{tabular}\n"
      ],
      "text/markdown": [
       "\n",
       "|  2 |  3 |  5 |  7 | 11 | 13 | 17 | 23 | 29 | 31 | \n",
       "|  3 |  5 |  7 | 11 | 13 | 17 | 23 | 29 | 31 | 37 | \n",
       "|  5 |  7 | 11 | 13 | 17 | 23 | 29 | 31 | 37 | 41 | \n",
       "|  7 | 11 | 13 | 17 | 23 | 29 | 31 | 37 | 41 | 43 | \n",
       "| 11 | 13 | 17 | 23 | 29 | 31 | 37 | 41 | 43 | 47 | \n",
       "| 13 | 17 | 23 | 29 | 31 | 37 | 41 | 43 | 47 | 53 | \n",
       "| 17 | 23 | 29 | 31 | 37 | 41 | 43 | 47 | 53 | 59 | \n",
       "| 23 | 29 | 31 | 37 | 41 | 43 | 47 | 53 | 59 | 61 | \n",
       "| 29 | 31 | 37 | 41 | 43 | 47 | 53 | 59 | 61 | 67 | \n",
       "| 31 | 37 | 41 | 43 | 47 | 53 | 59 | 61 | 67 | 71 | \n",
       "\n",
       "\n"
      ],
      "text/plain": [
       "      [,1] [,2] [,3] [,4] [,5] [,6] [,7] [,8] [,9] [,10]\n",
       " [1,]  2    3    5    7   11   13   17   23   29   31   \n",
       " [2,]  3    5    7   11   13   17   23   29   31   37   \n",
       " [3,]  5    7   11   13   17   23   29   31   37   41   \n",
       " [4,]  7   11   13   17   23   29   31   37   41   43   \n",
       " [5,] 11   13   17   23   29   31   37   41   43   47   \n",
       " [6,] 13   17   23   29   31   37   41   43   47   53   \n",
       " [7,] 17   23   29   31   37   41   43   47   53   59   \n",
       " [8,] 23   29   31   37   41   43   47   53   59   61   \n",
       " [9,] 29   31   37   41   43   47   53   59   61   67   \n",
       "[10,] 31   37   41   43   47   53   59   61   67   71   "
      ]
     },
     "metadata": {},
     "output_type": "display_data"
    },
    {
     "data": {
      "text/html": [
       "<table>\n",
       "<tbody>\n",
       "\t<tr><td> 2</td><td> 3</td><td> 5</td><td> 7</td><td>11</td><td>13</td><td>17</td><td>23</td><td>29</td><td>31</td><td>37</td><td>41</td></tr>\n",
       "\t<tr><td> 3</td><td> 5</td><td> 7</td><td>11</td><td>13</td><td>17</td><td>23</td><td>29</td><td>31</td><td>37</td><td>41</td><td>43</td></tr>\n",
       "\t<tr><td> 5</td><td> 7</td><td>11</td><td>13</td><td>17</td><td>23</td><td>29</td><td>31</td><td>37</td><td>41</td><td>43</td><td>47</td></tr>\n",
       "\t<tr><td> 7</td><td>11</td><td>13</td><td>17</td><td>23</td><td>29</td><td>31</td><td>37</td><td>41</td><td>43</td><td>47</td><td>53</td></tr>\n",
       "\t<tr><td>11</td><td>13</td><td>17</td><td>23</td><td>29</td><td>31</td><td>37</td><td>41</td><td>43</td><td>47</td><td>53</td><td>59</td></tr>\n",
       "\t<tr><td>13</td><td>17</td><td>23</td><td>29</td><td>31</td><td>37</td><td>41</td><td>43</td><td>47</td><td>53</td><td>59</td><td>61</td></tr>\n",
       "\t<tr><td>17</td><td>23</td><td>29</td><td>31</td><td>37</td><td>41</td><td>43</td><td>47</td><td>53</td><td>59</td><td>61</td><td>67</td></tr>\n",
       "\t<tr><td>23</td><td>29</td><td>31</td><td>37</td><td>41</td><td>43</td><td>47</td><td>53</td><td>59</td><td>61</td><td>67</td><td>71</td></tr>\n",
       "\t<tr><td>29</td><td>31</td><td>37</td><td>41</td><td>43</td><td>47</td><td>53</td><td>59</td><td>61</td><td>67</td><td>71</td><td>73</td></tr>\n",
       "\t<tr><td>31</td><td>37</td><td>41</td><td>43</td><td>47</td><td>53</td><td>59</td><td>61</td><td>67</td><td>71</td><td>73</td><td>79</td></tr>\n",
       "\t<tr><td>37</td><td>41</td><td>43</td><td>47</td><td>53</td><td>59</td><td>61</td><td>67</td><td>71</td><td>73</td><td>79</td><td>83</td></tr>\n",
       "\t<tr><td>41</td><td>43</td><td>47</td><td>53</td><td>59</td><td>61</td><td>67</td><td>71</td><td>73</td><td>79</td><td>83</td><td>89</td></tr>\n",
       "</tbody>\n",
       "</table>\n"
      ],
      "text/latex": [
       "\\begin{tabular}{llllllllllll}\n",
       "\t  2 &  3 &  5 &  7 & 11 & 13 & 17 & 23 & 29 & 31 & 37 & 41\\\\\n",
       "\t  3 &  5 &  7 & 11 & 13 & 17 & 23 & 29 & 31 & 37 & 41 & 43\\\\\n",
       "\t  5 &  7 & 11 & 13 & 17 & 23 & 29 & 31 & 37 & 41 & 43 & 47\\\\\n",
       "\t  7 & 11 & 13 & 17 & 23 & 29 & 31 & 37 & 41 & 43 & 47 & 53\\\\\n",
       "\t 11 & 13 & 17 & 23 & 29 & 31 & 37 & 41 & 43 & 47 & 53 & 59\\\\\n",
       "\t 13 & 17 & 23 & 29 & 31 & 37 & 41 & 43 & 47 & 53 & 59 & 61\\\\\n",
       "\t 17 & 23 & 29 & 31 & 37 & 41 & 43 & 47 & 53 & 59 & 61 & 67\\\\\n",
       "\t 23 & 29 & 31 & 37 & 41 & 43 & 47 & 53 & 59 & 61 & 67 & 71\\\\\n",
       "\t 29 & 31 & 37 & 41 & 43 & 47 & 53 & 59 & 61 & 67 & 71 & 73\\\\\n",
       "\t 31 & 37 & 41 & 43 & 47 & 53 & 59 & 61 & 67 & 71 & 73 & 79\\\\\n",
       "\t 37 & 41 & 43 & 47 & 53 & 59 & 61 & 67 & 71 & 73 & 79 & 83\\\\\n",
       "\t 41 & 43 & 47 & 53 & 59 & 61 & 67 & 71 & 73 & 79 & 83 & 89\\\\\n",
       "\\end{tabular}\n"
      ],
      "text/markdown": [
       "\n",
       "|  2 |  3 |  5 |  7 | 11 | 13 | 17 | 23 | 29 | 31 | 37 | 41 | \n",
       "|  3 |  5 |  7 | 11 | 13 | 17 | 23 | 29 | 31 | 37 | 41 | 43 | \n",
       "|  5 |  7 | 11 | 13 | 17 | 23 | 29 | 31 | 37 | 41 | 43 | 47 | \n",
       "|  7 | 11 | 13 | 17 | 23 | 29 | 31 | 37 | 41 | 43 | 47 | 53 | \n",
       "| 11 | 13 | 17 | 23 | 29 | 31 | 37 | 41 | 43 | 47 | 53 | 59 | \n",
       "| 13 | 17 | 23 | 29 | 31 | 37 | 41 | 43 | 47 | 53 | 59 | 61 | \n",
       "| 17 | 23 | 29 | 31 | 37 | 41 | 43 | 47 | 53 | 59 | 61 | 67 | \n",
       "| 23 | 29 | 31 | 37 | 41 | 43 | 47 | 53 | 59 | 61 | 67 | 71 | \n",
       "| 29 | 31 | 37 | 41 | 43 | 47 | 53 | 59 | 61 | 67 | 71 | 73 | \n",
       "| 31 | 37 | 41 | 43 | 47 | 53 | 59 | 61 | 67 | 71 | 73 | 79 | \n",
       "| 37 | 41 | 43 | 47 | 53 | 59 | 61 | 67 | 71 | 73 | 79 | 83 | \n",
       "| 41 | 43 | 47 | 53 | 59 | 61 | 67 | 71 | 73 | 79 | 83 | 89 | \n",
       "\n",
       "\n"
      ],
      "text/plain": [
       "      [,1] [,2] [,3] [,4] [,5] [,6] [,7] [,8] [,9] [,10] [,11] [,12]\n",
       " [1,]  2    3    5    7   11   13   17   23   29   31    37    41   \n",
       " [2,]  3    5    7   11   13   17   23   29   31   37    41    43   \n",
       " [3,]  5    7   11   13   17   23   29   31   37   41    43    47   \n",
       " [4,]  7   11   13   17   23   29   31   37   41   43    47    53   \n",
       " [5,] 11   13   17   23   29   31   37   41   43   47    53    59   \n",
       " [6,] 13   17   23   29   31   37   41   43   47   53    59    61   \n",
       " [7,] 17   23   29   31   37   41   43   47   53   59    61    67   \n",
       " [8,] 23   29   31   37   41   43   47   53   59   61    67    71   \n",
       " [9,] 29   31   37   41   43   47   53   59   61   67    71    73   \n",
       "[10,] 31   37   41   43   47   53   59   61   67   71    73    79   \n",
       "[11,] 37   41   43   47   53   59   61   67   71   73    79    83   \n",
       "[12,] 41   43   47   53   59   61   67   71   73   79    83    89   "
      ]
     },
     "metadata": {},
     "output_type": "display_data"
    }
   ],
   "source": [
    "# Separamos la matriz de Hankel en dos matrices: A y B.\n",
    "A <- matrix(data = rep.int(1:5, times = 5), nrow = 5, byrow = TRUE) \n",
    "B <- matrix(rep(seq(from = 0, to = 4), each = 5), nrow = 5, byrow = TRUE)\n",
    "A + B # Al sumar estas matrices obtenemos la matriz de Hankel.\n",
    "\n",
    "# La generalización de las ideas del ítem a), es tomada para representar las \n",
    "# posiciones de un vector cualquiera.\n",
    "# El argumento de nuestra función es la longitud del vector generador de la matriz \n",
    "# de Hankel.\n",
    "my_posicions <- function(n){\n",
    "A <- matrix(data = rep.int(1:n, times = n), nrow = n, byrow = TRUE)\n",
    "B <- matrix(rep(seq(from = 0, to = n - 1), each = n), nrow = n, byrow = TRUE)\n",
    "return (A + B)}\n",
    "\n",
    "# La longitud del vector, que es usado como argumento, debe ser impar.\n",
    "my_hankel <- function(my_vector)\n",
    "{\n",
    "  dimension = (1/2)*(length(my_vector) + 1)\n",
    "  matrix(data = my_vector[my_posicions(dimension)], nrow = dimension, byrow = TRUE)\n",
    "}\n",
    "\n",
    "# Matriz de Henkel de orden 10\n",
    "my_hankel(c(2, 3, 5, 7, 11, 13, 17, 23, 29, 31, 37, 41, 43, 47, 53, 59, 61, 67, 71))\n",
    "\n",
    "# Matriz de Henkel de orden 12\n",
    "my_hankel(c(2, 3, 5, 7, 11, 13, 17, 23, 29, 31, 37, 41, 43, 47, 53, 59, 61, 67, 71, \n",
    "            73, 79, 83, 89))\n"
   ]
  },
  {
   "cell_type": "markdown",
   "metadata": {},
   "source": [
    "9.La matriz de Hilbert $n \\times n$ tiene a los elementos $(i,j)$ dados por $1/(i + j-1)$.\n"
   ]
  },
  {
   "cell_type": "markdown",
   "metadata": {},
   "source": [
    " * Escribe una función que muestra una matriz de Hilbert $n \\times n$ como salida para entero positivo $n$.\n"
   ]
  },
  {
   "cell_type": "code",
   "execution_count": 2,
   "metadata": {},
   "outputs": [
    {
     "data": {
      "text/html": [
       "<table>\n",
       "<tbody>\n",
       "\t<tr><td>1.0000000</td><td>0.5000000</td><td>0.3333333</td><td>0.2500000</td><td>0.2000000</td></tr>\n",
       "\t<tr><td>0.5000000</td><td>0.3333333</td><td>0.2500000</td><td>0.2000000</td><td>0.1666667</td></tr>\n",
       "\t<tr><td>0.3333333</td><td>0.2500000</td><td>0.2000000</td><td>0.1666667</td><td>0.1428571</td></tr>\n",
       "\t<tr><td>0.2500000</td><td>0.2000000</td><td>0.1666667</td><td>0.1428571</td><td>0.1250000</td></tr>\n",
       "\t<tr><td>0.2000000</td><td>0.1666667</td><td>0.1428571</td><td>0.1250000</td><td>0.1111111</td></tr>\n",
       "</tbody>\n",
       "</table>\n"
      ],
      "text/latex": [
       "\\begin{tabular}{lllll}\n",
       "\t 1.0000000 & 0.5000000 & 0.3333333 & 0.2500000 & 0.2000000\\\\\n",
       "\t 0.5000000 & 0.3333333 & 0.2500000 & 0.2000000 & 0.1666667\\\\\n",
       "\t 0.3333333 & 0.2500000 & 0.2000000 & 0.1666667 & 0.1428571\\\\\n",
       "\t 0.2500000 & 0.2000000 & 0.1666667 & 0.1428571 & 0.1250000\\\\\n",
       "\t 0.2000000 & 0.1666667 & 0.1428571 & 0.1250000 & 0.1111111\\\\\n",
       "\\end{tabular}\n"
      ],
      "text/markdown": [
       "\n",
       "| 1.0000000 | 0.5000000 | 0.3333333 | 0.2500000 | 0.2000000 | \n",
       "| 0.5000000 | 0.3333333 | 0.2500000 | 0.2000000 | 0.1666667 | \n",
       "| 0.3333333 | 0.2500000 | 0.2000000 | 0.1666667 | 0.1428571 | \n",
       "| 0.2500000 | 0.2000000 | 0.1666667 | 0.1428571 | 0.1250000 | \n",
       "| 0.2000000 | 0.1666667 | 0.1428571 | 0.1250000 | 0.1111111 | \n",
       "\n",
       "\n"
      ],
      "text/plain": [
       "     [,1]      [,2]      [,3]      [,4]      [,5]     \n",
       "[1,] 1.0000000 0.5000000 0.3333333 0.2500000 0.2000000\n",
       "[2,] 0.5000000 0.3333333 0.2500000 0.2000000 0.1666667\n",
       "[3,] 0.3333333 0.2500000 0.2000000 0.1666667 0.1428571\n",
       "[4,] 0.2500000 0.2000000 0.1666667 0.1428571 0.1250000\n",
       "[5,] 0.2000000 0.1666667 0.1428571 0.1250000 0.1111111"
      ]
     },
     "metadata": {},
     "output_type": "display_data"
    }
   ],
   "source": [
    "# La matriz de Hilbert es la inversa de la matriz de Hankel genenrada por el vector 1:n\n",
    "my_hilbert <- function(n){\n",
    "  A <- matrix(data = rep.int(1:n, times = n), nrow = n, byrow = TRUE)\n",
    "  B <- matrix(rep(seq(from = 0, to = n - 1), each = n), nrow = n, byrow = TRUE)\n",
    "  return (1/(A + B))\n",
    "}\n",
    "my_hilbert(5)"
   ]
  },
  {
   "cell_type": "markdown",
   "metadata": {},
   "source": [
    " * ¿Son todas las matrices de Hilbert invertibles?."
   ]
  },
  {
   "cell_type": "code",
   "execution_count": 35,
   "metadata": {
    "collapsed": true
   },
   "outputs": [],
   "source": [
    "# Sí, todas las matrices de Hilbert son invertibles"
   ]
  },
  {
   "cell_type": "markdown",
   "metadata": {},
   "source": [
    " * Usa $\\texttt{solve()}$ y $\\texttt{qr.solve()}$ para calcular la inversa de las matrices Hilbert, por ejemplo, cuando $n = 10$.\n"
   ]
  },
  {
   "cell_type": "code",
   "execution_count": 3,
   "metadata": {},
   "outputs": [
    {
     "data": {
      "text/html": [
       "<table>\n",
       "<tbody>\n",
       "\t<tr><td> 9.999719e+01</td><td>-4.949757e+03</td><td> 7.919482e+04</td><td>-6.005529e+05</td><td>      2522295</td><td>-6.305682e+06</td><td> 9.608586e+06</td><td>-8.750620e+06</td><td> 4.375286e+06</td><td>-9.236669e+05</td></tr>\n",
       "\t<tr><td>-4.949756e+03</td><td> 3.266790e+05</td><td>-5.880152e+06</td><td> 4.756344e+07</td><td>   -208088462</td><td> 5.350812e+08</td><td>-8.323439e+08</td><td> 7.700561e+08</td><td>-3.898393e+08</td><td> 8.313042e+07</td></tr>\n",
       "\t<tr><td> 7.919480e+04</td><td>-5.880151e+06</td><td> 1.128980e+08</td><td>-9.512635e+08</td><td>   4280662450</td><td>-1.123669e+10</td><td> 1.775667e+10</td><td>-1.663324e+10</td><td> 8.505608e+09</td><td>-1.828876e+09</td></tr>\n",
       "\t<tr><td>-6.005527e+05</td><td> 4.756343e+07</td><td>-9.512634e+08</td><td> 8.244246e+09</td><td> -37871868827</td><td> 1.009913e+11</td><td>-1.615857e+11</td><td> 1.528915e+11</td><td>-7.883455e+10</td><td> 1.706956e+10</td></tr>\n",
       "\t<tr><td> 2.522294e+06</td><td>-2.080884e+08</td><td> 4.280662e+09</td><td>-3.787187e+10</td><td> 176734991839</td><td>-4.771836e+11</td><td> 7.712047e+11</td><td>-7.357912e+11</td><td> 3.820450e+11</td><td>-8.321430e+10</td></tr>\n",
       "\t<tr><td>-6.305679e+06</td><td> 5.350810e+08</td><td>-1.123668e+10</td><td> 1.009913e+11</td><td>-477183582308</td><td> 1.301409e+12</td><td>-2.120813e+12</td><td> 2.037577e+12</td><td>-1.064270e+12</td><td> 2.330005e+11</td></tr>\n",
       "\t<tr><td> 9.608580e+06</td><td>-8.323436e+08</td><td> 1.775667e+10</td><td>-1.615857e+11</td><td> 771204559101</td><td>-2.120813e+12</td><td> 3.480308e+12</td><td>-3.363622e+12</td><td> 1.765901e+12</td><td>-3.883348e+11</td></tr>\n",
       "\t<tr><td>-8.750614e+06</td><td> 7.700557e+08</td><td>-1.663323e+10</td><td> 1.528915e+11</td><td>-735791094422</td><td> 2.037577e+12</td><td>-3.363622e+12</td><td> 3.267520e+12</td><td>-1.723107e+12</td><td> 3.804102e+11</td></tr>\n",
       "\t<tr><td> 4.375282e+06</td><td>-3.898391e+08</td><td> 8.505604e+09</td><td>-7.883452e+10</td><td> 382044919568</td><td>-1.064270e+12</td><td> 1.765901e+12</td><td>-1.723107e+12</td><td> 9.122340e+11</td><td>-2.020931e+11</td></tr>\n",
       "\t<tr><td>-9.236661e+05</td><td> 8.313037e+07</td><td>-1.828875e+09</td><td> 1.706955e+10</td><td> -83214282335</td><td> 2.330005e+11</td><td>-3.883348e+11</td><td> 3.804101e+11</td><td>-2.020931e+11</td><td> 4.490964e+10</td></tr>\n",
       "</tbody>\n",
       "</table>\n"
      ],
      "text/latex": [
       "\\begin{tabular}{llllllllll}\n",
       "\t  9.999719e+01 & -4.949757e+03 &  7.919482e+04 & -6.005529e+05 &       2522295 & -6.305682e+06 &  9.608586e+06 & -8.750620e+06 &  4.375286e+06 & -9.236669e+05\\\\\n",
       "\t -4.949756e+03 &  3.266790e+05 & -5.880152e+06 &  4.756344e+07 &    -208088462 &  5.350812e+08 & -8.323439e+08 &  7.700561e+08 & -3.898393e+08 &  8.313042e+07\\\\\n",
       "\t  7.919480e+04 & -5.880151e+06 &  1.128980e+08 & -9.512635e+08 &    4280662450 & -1.123669e+10 &  1.775667e+10 & -1.663324e+10 &  8.505608e+09 & -1.828876e+09\\\\\n",
       "\t -6.005527e+05 &  4.756343e+07 & -9.512634e+08 &  8.244246e+09 &  -37871868827 &  1.009913e+11 & -1.615857e+11 &  1.528915e+11 & -7.883455e+10 &  1.706956e+10\\\\\n",
       "\t  2.522294e+06 & -2.080884e+08 &  4.280662e+09 & -3.787187e+10 &  176734991839 & -4.771836e+11 &  7.712047e+11 & -7.357912e+11 &  3.820450e+11 & -8.321430e+10\\\\\n",
       "\t -6.305679e+06 &  5.350810e+08 & -1.123668e+10 &  1.009913e+11 & -477183582308 &  1.301409e+12 & -2.120813e+12 &  2.037577e+12 & -1.064270e+12 &  2.330005e+11\\\\\n",
       "\t  9.608580e+06 & -8.323436e+08 &  1.775667e+10 & -1.615857e+11 &  771204559101 & -2.120813e+12 &  3.480308e+12 & -3.363622e+12 &  1.765901e+12 & -3.883348e+11\\\\\n",
       "\t -8.750614e+06 &  7.700557e+08 & -1.663323e+10 &  1.528915e+11 & -735791094422 &  2.037577e+12 & -3.363622e+12 &  3.267520e+12 & -1.723107e+12 &  3.804102e+11\\\\\n",
       "\t  4.375282e+06 & -3.898391e+08 &  8.505604e+09 & -7.883452e+10 &  382044919568 & -1.064270e+12 &  1.765901e+12 & -1.723107e+12 &  9.122340e+11 & -2.020931e+11\\\\\n",
       "\t -9.236661e+05 &  8.313037e+07 & -1.828875e+09 &  1.706955e+10 &  -83214282335 &  2.330005e+11 & -3.883348e+11 &  3.804101e+11 & -2.020931e+11 &  4.490964e+10\\\\\n",
       "\\end{tabular}\n"
      ],
      "text/markdown": [
       "\n",
       "|  9.999719e+01 | -4.949757e+03 |  7.919482e+04 | -6.005529e+05 |       2522295 | -6.305682e+06 |  9.608586e+06 | -8.750620e+06 |  4.375286e+06 | -9.236669e+05 | \n",
       "| -4.949756e+03 |  3.266790e+05 | -5.880152e+06 |  4.756344e+07 |    -208088462 |  5.350812e+08 | -8.323439e+08 |  7.700561e+08 | -3.898393e+08 |  8.313042e+07 | \n",
       "|  7.919480e+04 | -5.880151e+06 |  1.128980e+08 | -9.512635e+08 |    4280662450 | -1.123669e+10 |  1.775667e+10 | -1.663324e+10 |  8.505608e+09 | -1.828876e+09 | \n",
       "| -6.005527e+05 |  4.756343e+07 | -9.512634e+08 |  8.244246e+09 |  -37871868827 |  1.009913e+11 | -1.615857e+11 |  1.528915e+11 | -7.883455e+10 |  1.706956e+10 | \n",
       "|  2.522294e+06 | -2.080884e+08 |  4.280662e+09 | -3.787187e+10 |  176734991839 | -4.771836e+11 |  7.712047e+11 | -7.357912e+11 |  3.820450e+11 | -8.321430e+10 | \n",
       "| -6.305679e+06 |  5.350810e+08 | -1.123668e+10 |  1.009913e+11 | -477183582308 |  1.301409e+12 | -2.120813e+12 |  2.037577e+12 | -1.064270e+12 |  2.330005e+11 | \n",
       "|  9.608580e+06 | -8.323436e+08 |  1.775667e+10 | -1.615857e+11 |  771204559101 | -2.120813e+12 |  3.480308e+12 | -3.363622e+12 |  1.765901e+12 | -3.883348e+11 | \n",
       "| -8.750614e+06 |  7.700557e+08 | -1.663323e+10 |  1.528915e+11 | -735791094422 |  2.037577e+12 | -3.363622e+12 |  3.267520e+12 | -1.723107e+12 |  3.804102e+11 | \n",
       "|  4.375282e+06 | -3.898391e+08 |  8.505604e+09 | -7.883452e+10 |  382044919568 | -1.064270e+12 |  1.765901e+12 | -1.723107e+12 |  9.122340e+11 | -2.020931e+11 | \n",
       "| -9.236661e+05 |  8.313037e+07 | -1.828875e+09 |  1.706955e+10 |  -83214282335 |  2.330005e+11 | -3.883348e+11 |  3.804101e+11 | -2.020931e+11 |  4.490964e+10 | \n",
       "\n",
       "\n"
      ],
      "text/plain": [
       "      [,1]          [,2]          [,3]          [,4]          [,5]         \n",
       " [1,]  9.999719e+01 -4.949757e+03  7.919482e+04 -6.005529e+05       2522295\n",
       " [2,] -4.949756e+03  3.266790e+05 -5.880152e+06  4.756344e+07    -208088462\n",
       " [3,]  7.919480e+04 -5.880151e+06  1.128980e+08 -9.512635e+08    4280662450\n",
       " [4,] -6.005527e+05  4.756343e+07 -9.512634e+08  8.244246e+09  -37871868827\n",
       " [5,]  2.522294e+06 -2.080884e+08  4.280662e+09 -3.787187e+10  176734991839\n",
       " [6,] -6.305679e+06  5.350810e+08 -1.123668e+10  1.009913e+11 -477183582308\n",
       " [7,]  9.608580e+06 -8.323436e+08  1.775667e+10 -1.615857e+11  771204559101\n",
       " [8,] -8.750614e+06  7.700557e+08 -1.663323e+10  1.528915e+11 -735791094422\n",
       " [9,]  4.375282e+06 -3.898391e+08  8.505604e+09 -7.883452e+10  382044919568\n",
       "[10,] -9.236661e+05  8.313037e+07 -1.828875e+09  1.706955e+10  -83214282335\n",
       "      [,6]          [,7]          [,8]          [,9]          [,10]        \n",
       " [1,] -6.305682e+06  9.608586e+06 -8.750620e+06  4.375286e+06 -9.236669e+05\n",
       " [2,]  5.350812e+08 -8.323439e+08  7.700561e+08 -3.898393e+08  8.313042e+07\n",
       " [3,] -1.123669e+10  1.775667e+10 -1.663324e+10  8.505608e+09 -1.828876e+09\n",
       " [4,]  1.009913e+11 -1.615857e+11  1.528915e+11 -7.883455e+10  1.706956e+10\n",
       " [5,] -4.771836e+11  7.712047e+11 -7.357912e+11  3.820450e+11 -8.321430e+10\n",
       " [6,]  1.301409e+12 -2.120813e+12  2.037577e+12 -1.064270e+12  2.330005e+11\n",
       " [7,] -2.120813e+12  3.480308e+12 -3.363622e+12  1.765901e+12 -3.883348e+11\n",
       " [8,]  2.037577e+12 -3.363622e+12  3.267520e+12 -1.723107e+12  3.804102e+11\n",
       " [9,] -1.064270e+12  1.765901e+12 -1.723107e+12  9.122340e+11 -2.020931e+11\n",
       "[10,]  2.330005e+11 -3.883348e+11  3.804101e+11 -2.020931e+11  4.490964e+10"
      ]
     },
     "metadata": {},
     "output_type": "display_data"
    },
    {
     "data": {
      "text/html": [
       "<table>\n",
       "<tbody>\n",
       "\t<tr><td> 9.999763e+01</td><td>-4.949796e+03</td><td> 7.919566e+04</td><td>-6.005606e+05</td><td>      2522332</td><td>-6.305784e+06</td><td> 9.608755e+06</td><td>-8.750784e+06</td><td> 4.375372e+06</td><td>-9.236858e+05</td></tr>\n",
       "\t<tr><td>-4.949794e+03</td><td> 3.266822e+05</td><td>-5.880222e+06</td><td> 4.756409e+07</td><td>   -208091541</td><td> 5.350897e+08</td><td>-8.323580e+08</td><td> 7.700697e+08</td><td>-3.898465e+08</td><td> 8.313200e+07</td></tr>\n",
       "\t<tr><td> 7.919557e+04</td><td>-5.880218e+06</td><td> 1.128994e+08</td><td>-9.512768e+08</td><td>   4280726081</td><td>-1.123686e+10</td><td> 1.775696e+10</td><td>-1.663352e+10</td><td> 8.505756e+09</td><td>-1.828909e+09</td></tr>\n",
       "\t<tr><td>-6.005595e+05</td><td> 4.756403e+07</td><td>-9.512762e+08</td><td> 8.244364e+09</td><td> -37872432943</td><td> 1.009929e+11</td><td>-1.615883e+11</td><td> 1.528940e+11</td><td>-7.883586e+10</td><td> 1.706985e+10</td></tr>\n",
       "\t<tr><td> 2.522326e+06</td><td>-2.080912e+08</td><td> 4.280722e+09</td><td>-3.787241e+10</td><td> 176737626224</td><td>-4.771909e+11</td><td> 7.712167e+11</td><td>-7.358029e+11</td><td> 3.820511e+11</td><td>-8.321566e+10</td></tr>\n",
       "\t<tr><td>-6.305764e+06</td><td> 5.350885e+08</td><td>-1.123685e+10</td><td> 1.009928e+11</td><td>-477190694526</td><td> 1.301428e+12</td><td>-2.120845e+12</td><td> 2.037609e+12</td><td>-1.064286e+12</td><td> 2.330042e+11</td></tr>\n",
       "\t<tr><td> 9.608718e+06</td><td>-8.323557e+08</td><td> 1.775693e+10</td><td>-1.615881e+11</td><td> 771216047252</td><td>-2.120844e+12</td><td> 3.480361e+12</td><td>-3.363673e+12</td><td> 1.765928e+12</td><td>-3.883407e+11</td></tr>\n",
       "\t<tr><td>-8.750745e+06</td><td> 7.700672e+08</td><td>-1.663348e+10</td><td> 1.528938e+11</td><td>-735802046037</td><td> 2.037607e+12</td><td>-3.363671e+12</td><td> 3.267568e+12</td><td>-1.723133e+12</td><td> 3.804158e+11</td></tr>\n",
       "\t<tr><td> 4.375350e+06</td><td>-3.898451e+08</td><td> 8.505733e+09</td><td>-7.883571e+10</td><td> 382050600435</td><td>-1.064285e+12</td><td> 1.765927e+12</td><td>-1.723132e+12</td><td> 9.122472e+11</td><td>-2.020961e+11</td></tr>\n",
       "\t<tr><td>-9.236809e+05</td><td> 8.313167e+07</td><td>-1.828903e+09</td><td> 1.706981e+10</td><td> -83215518397</td><td> 2.330039e+11</td><td>-3.883404e+11</td><td> 3.804156e+11</td><td>-2.020960e+11</td><td> 4.491027e+10</td></tr>\n",
       "</tbody>\n",
       "</table>\n"
      ],
      "text/latex": [
       "\\begin{tabular}{llllllllll}\n",
       "\t  9.999763e+01 & -4.949796e+03 &  7.919566e+04 & -6.005606e+05 &       2522332 & -6.305784e+06 &  9.608755e+06 & -8.750784e+06 &  4.375372e+06 & -9.236858e+05\\\\\n",
       "\t -4.949794e+03 &  3.266822e+05 & -5.880222e+06 &  4.756409e+07 &    -208091541 &  5.350897e+08 & -8.323580e+08 &  7.700697e+08 & -3.898465e+08 &  8.313200e+07\\\\\n",
       "\t  7.919557e+04 & -5.880218e+06 &  1.128994e+08 & -9.512768e+08 &    4280726081 & -1.123686e+10 &  1.775696e+10 & -1.663352e+10 &  8.505756e+09 & -1.828909e+09\\\\\n",
       "\t -6.005595e+05 &  4.756403e+07 & -9.512762e+08 &  8.244364e+09 &  -37872432943 &  1.009929e+11 & -1.615883e+11 &  1.528940e+11 & -7.883586e+10 &  1.706985e+10\\\\\n",
       "\t  2.522326e+06 & -2.080912e+08 &  4.280722e+09 & -3.787241e+10 &  176737626224 & -4.771909e+11 &  7.712167e+11 & -7.358029e+11 &  3.820511e+11 & -8.321566e+10\\\\\n",
       "\t -6.305764e+06 &  5.350885e+08 & -1.123685e+10 &  1.009928e+11 & -477190694526 &  1.301428e+12 & -2.120845e+12 &  2.037609e+12 & -1.064286e+12 &  2.330042e+11\\\\\n",
       "\t  9.608718e+06 & -8.323557e+08 &  1.775693e+10 & -1.615881e+11 &  771216047252 & -2.120844e+12 &  3.480361e+12 & -3.363673e+12 &  1.765928e+12 & -3.883407e+11\\\\\n",
       "\t -8.750745e+06 &  7.700672e+08 & -1.663348e+10 &  1.528938e+11 & -735802046037 &  2.037607e+12 & -3.363671e+12 &  3.267568e+12 & -1.723133e+12 &  3.804158e+11\\\\\n",
       "\t  4.375350e+06 & -3.898451e+08 &  8.505733e+09 & -7.883571e+10 &  382050600435 & -1.064285e+12 &  1.765927e+12 & -1.723132e+12 &  9.122472e+11 & -2.020961e+11\\\\\n",
       "\t -9.236809e+05 &  8.313167e+07 & -1.828903e+09 &  1.706981e+10 &  -83215518397 &  2.330039e+11 & -3.883404e+11 &  3.804156e+11 & -2.020960e+11 &  4.491027e+10\\\\\n",
       "\\end{tabular}\n"
      ],
      "text/markdown": [
       "\n",
       "|  9.999763e+01 | -4.949796e+03 |  7.919566e+04 | -6.005606e+05 |       2522332 | -6.305784e+06 |  9.608755e+06 | -8.750784e+06 |  4.375372e+06 | -9.236858e+05 | \n",
       "| -4.949794e+03 |  3.266822e+05 | -5.880222e+06 |  4.756409e+07 |    -208091541 |  5.350897e+08 | -8.323580e+08 |  7.700697e+08 | -3.898465e+08 |  8.313200e+07 | \n",
       "|  7.919557e+04 | -5.880218e+06 |  1.128994e+08 | -9.512768e+08 |    4280726081 | -1.123686e+10 |  1.775696e+10 | -1.663352e+10 |  8.505756e+09 | -1.828909e+09 | \n",
       "| -6.005595e+05 |  4.756403e+07 | -9.512762e+08 |  8.244364e+09 |  -37872432943 |  1.009929e+11 | -1.615883e+11 |  1.528940e+11 | -7.883586e+10 |  1.706985e+10 | \n",
       "|  2.522326e+06 | -2.080912e+08 |  4.280722e+09 | -3.787241e+10 |  176737626224 | -4.771909e+11 |  7.712167e+11 | -7.358029e+11 |  3.820511e+11 | -8.321566e+10 | \n",
       "| -6.305764e+06 |  5.350885e+08 | -1.123685e+10 |  1.009928e+11 | -477190694526 |  1.301428e+12 | -2.120845e+12 |  2.037609e+12 | -1.064286e+12 |  2.330042e+11 | \n",
       "|  9.608718e+06 | -8.323557e+08 |  1.775693e+10 | -1.615881e+11 |  771216047252 | -2.120844e+12 |  3.480361e+12 | -3.363673e+12 |  1.765928e+12 | -3.883407e+11 | \n",
       "| -8.750745e+06 |  7.700672e+08 | -1.663348e+10 |  1.528938e+11 | -735802046037 |  2.037607e+12 | -3.363671e+12 |  3.267568e+12 | -1.723133e+12 |  3.804158e+11 | \n",
       "|  4.375350e+06 | -3.898451e+08 |  8.505733e+09 | -7.883571e+10 |  382050600435 | -1.064285e+12 |  1.765927e+12 | -1.723132e+12 |  9.122472e+11 | -2.020961e+11 | \n",
       "| -9.236809e+05 |  8.313167e+07 | -1.828903e+09 |  1.706981e+10 |  -83215518397 |  2.330039e+11 | -3.883404e+11 |  3.804156e+11 | -2.020960e+11 |  4.491027e+10 | \n",
       "\n",
       "\n"
      ],
      "text/plain": [
       "      [,1]          [,2]          [,3]          [,4]          [,5]         \n",
       " [1,]  9.999763e+01 -4.949796e+03  7.919566e+04 -6.005606e+05       2522332\n",
       " [2,] -4.949794e+03  3.266822e+05 -5.880222e+06  4.756409e+07    -208091541\n",
       " [3,]  7.919557e+04 -5.880218e+06  1.128994e+08 -9.512768e+08    4280726081\n",
       " [4,] -6.005595e+05  4.756403e+07 -9.512762e+08  8.244364e+09  -37872432943\n",
       " [5,]  2.522326e+06 -2.080912e+08  4.280722e+09 -3.787241e+10  176737626224\n",
       " [6,] -6.305764e+06  5.350885e+08 -1.123685e+10  1.009928e+11 -477190694526\n",
       " [7,]  9.608718e+06 -8.323557e+08  1.775693e+10 -1.615881e+11  771216047252\n",
       " [8,] -8.750745e+06  7.700672e+08 -1.663348e+10  1.528938e+11 -735802046037\n",
       " [9,]  4.375350e+06 -3.898451e+08  8.505733e+09 -7.883571e+10  382050600435\n",
       "[10,] -9.236809e+05  8.313167e+07 -1.828903e+09  1.706981e+10  -83215518397\n",
       "      [,6]          [,7]          [,8]          [,9]          [,10]        \n",
       " [1,] -6.305784e+06  9.608755e+06 -8.750784e+06  4.375372e+06 -9.236858e+05\n",
       " [2,]  5.350897e+08 -8.323580e+08  7.700697e+08 -3.898465e+08  8.313200e+07\n",
       " [3,] -1.123686e+10  1.775696e+10 -1.663352e+10  8.505756e+09 -1.828909e+09\n",
       " [4,]  1.009929e+11 -1.615883e+11  1.528940e+11 -7.883586e+10  1.706985e+10\n",
       " [5,] -4.771909e+11  7.712167e+11 -7.358029e+11  3.820511e+11 -8.321566e+10\n",
       " [6,]  1.301428e+12 -2.120845e+12  2.037609e+12 -1.064286e+12  2.330042e+11\n",
       " [7,] -2.120844e+12  3.480361e+12 -3.363673e+12  1.765928e+12 -3.883407e+11\n",
       " [8,]  2.037607e+12 -3.363671e+12  3.267568e+12 -1.723133e+12  3.804158e+11\n",
       " [9,] -1.064285e+12  1.765927e+12 -1.723132e+12  9.122472e+11 -2.020961e+11\n",
       "[10,]  2.330039e+11 -3.883404e+11  3.804156e+11 -2.020960e+11  4.491027e+10"
      ]
     },
     "metadata": {},
     "output_type": "display_data"
    }
   ],
   "source": [
    "solve(my_hilbert(10)) \n",
    "# solve() calcula la inversa de la matriz dada como argumento basada en el método LU\n",
    "qr.solve(my_hilbert(10),tol = 0) \n",
    "#  qr.solve() calcula la inversa de la matriz dada como argumento basada en el método QR"
   ]
  },
  {
   "cell_type": "markdown",
   "metadata": {},
   "source": [
    "10.\n",
    " * Genere una matriz tridimensional con dimensiones $4 \\times 3 \\times 2$ que contengan los números del $1$ al $24$.\n"
   ]
  },
  {
   "cell_type": "code",
   "execution_count": null,
   "metadata": {
    "collapsed": true
   },
   "outputs": [],
   "source": [
    "(my_array <- array( data = 1:24, dim = c(4, 3, 2)))"
   ]
  },
  {
   "cell_type": "markdown",
   "metadata": {},
   "source": [
    " * Extraiga la última porción $\\texttt{(a[,, 2])}$ del array y guárdela como una matriz $M$.\n"
   ]
  },
  {
   "cell_type": "code",
   "execution_count": null,
   "metadata": {
    "collapsed": true
   },
   "outputs": [],
   "source": [
    "(M <- my_array[, , 2])"
   ]
  },
  {
   "cell_type": "markdown",
   "metadata": {},
   "source": [
    " * Genera una nueva matriz de dimensiones $4 \\times 3 \\times 3$ que es idéntica a la matriz anterior, pero añade la matriz $M$ como la tercera entrada en la tercera dimensión.\n"
   ]
  },
  {
   "cell_type": "code",
   "execution_count": null,
   "metadata": {
    "collapsed": true
   },
   "outputs": [],
   "source": [
    "array(data = c(my_array, M), dim = c(4, 3, 3))"
   ]
  },
  {
   "cell_type": "markdown",
   "metadata": {},
   "source": [
    "11.Crea una matriz aleatoria entera $6 \\times 10$ escogidos entre $1,2,\\dots, 10$, ejecutando las siguientes línes de código:\n",
    "\n",
    "`set.seed(75)`\n",
    "\n",
    "`aMat <- matrix( sample(10, size=60, replace=T), nr=6)`"
   ]
  },
  {
   "cell_type": "markdown",
   "metadata": {},
   "source": [
    "a) Encuentra el número de entradas en cada fila que son mayores que $4$."
   ]
  },
  {
   "cell_type": "code",
   "execution_count": null,
   "metadata": {
    "collapsed": true
   },
   "outputs": [],
   "source": [
    "set.seed(75)\n",
    "aMat <- matrix(data = sample(1:10, size = 60, replace = TRUE), nrow = 6, ncol = 10)\n",
    "aMat\n",
    "\n",
    "mayor <- function(x) sum(x >  4) # Calculamos cuántos elementos de x son mayores a 4.\n",
    "apply(aMat, 1, mayor)"
   ]
  },
  {
   "cell_type": "markdown",
   "metadata": {},
   "source": [
    "b) ¿Qué filas contienen exactamente dos ocurrencias del número $7$?\n"
   ]
  },
  {
   "cell_type": "code",
   "execution_count": null,
   "metadata": {
    "collapsed": true
   },
   "outputs": [],
   "source": [
    "ocurrencias <- function(x) sum(x == 7) # Calculamos cuántas elementos son iguales a 7 en x.\n",
    "which(apply(aMat, 1, ocurrencias) == 2)"
   ]
  },
  {
   "cell_type": "markdown",
   "metadata": {},
   "source": [
    "c) Encuentra aquellos pares de columnas cuyo total (sobre ambas columnas) es mayor que $75$. La respuesta debería ser una matriz con dos columnas; así, por ejemplo, la fila $(1, 2)$ en la matriz de salida significa que la suma de las columnas $1$ y $2$ en la matriz original es mayor que $75$. Se permite repetir una columna; por ejemplo, la matriz de salida final podría contener las filas $(1, 2)$, $(2, 1)$ y $(2, 2)$.\n",
    "\n",
    "¿Qué sucede si no se permiten repeticiones? Entonces, solo se permitiría $(1, 2)$ de $(1, 2)$, $(2, 1)$ y $(2, 2)$?.\n"
   ]
  },
  {
   "cell_type": "code",
   "execution_count": null,
   "metadata": {
    "collapsed": true
   },
   "outputs": [],
   "source": [
    "# Si se permite repetir columnas:\n",
    "vector_sum_col <- apply(aMat, 2, sum) \n",
    "# Almacenamos los valores de la suma de elementos de cada columna.\n",
    "suma_por_elementos <- function(x) x + vector_sum_col  \n",
    "# x es sumado con vector_sum_col, y así aprovecharemos la vectorización de R.\n",
    "superior <- function (x) sapply(x, suma_por_elementos) \n",
    "# Nos devuelve una matriz de todas las posibles sumas de elementos de vector_sum_col\n",
    "which(sapply(vector_sum_col, superior) > 75, arr.ind = TRUE)\n",
    "\n",
    "# Si no se permite repetir columnas\n",
    "matriz_pedida <- sapply(vector_sum_col, superior) > 75\n",
    "# Almacenamos la matriz con valores lógicos\n",
    "matriz_triangular <- lower.tri(sapply(vector_sum_col, superior) > 75)\n",
    "# Buscamos que la parte triangular inferior de la matriz sea considerada, por lo usamos\n",
    "# lower.tri()\n",
    "which(matriz_pedida == matriz_triangular & matriz_pedida == TRUE, arr.ind = TRUE)\n",
    "# arr.ind nos devuelve el índice según la posición espacial que ocupa en el array."
   ]
  }
 ],
 "metadata": {
  "kernelspec": {
   "display_name": "R",
   "language": "R",
   "name": "ir"
  },
  "language_info": {
   "codemirror_mode": "r",
   "file_extension": ".r",
   "mimetype": "text/x-r-source",
   "name": "R",
   "pygments_lexer": "r",
   "version": "3.3.2"
  }
 },
 "nbformat": 4,
 "nbformat_minor": 2
}
