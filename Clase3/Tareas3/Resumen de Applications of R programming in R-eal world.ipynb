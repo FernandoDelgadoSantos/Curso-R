{
 "cells": [
  {
   "cell_type": "markdown",
   "metadata": {},
   "source": [
    "\n",
    "\n",
    "# Resumen de Applications of R programming in R-eal world\n",
    "-------------\n",
    "#### **¿Cómo la programación en R es aplicada al mundo real?**\n",
    "-------------\n",
    "**R** se esta usando alrededor del mundo en campos que van\n",
    " desde las ciencias computacionales hasta el marketing, pasando por gigantes del análisis como *Google* y *Facebook*. Esto es debido a que **R** es un lenguaje con un ambiente propicio para la computación estadística y el diseño.\n",
    "R es considerado como una aplicación alternativa de de su predecesor: El lenguaje **S**. Se puede decir que el lenguaje **S** es el \"vehículo\" de la decisión para la exploración en metodologías estadísticas, mientras que **R** nos da rutas de código abierto para cooperar en esa acción.\n",
    "**R** cuenta con casi `5000` paquetes de los cuales una gran parte están dedicados a ciencias específicas como la astronomía y la química, además de aplicaciones prácticas como a los negocios. Así una vez que estas familiarizado con la programación en R, puedes aplicarla a todo: importación de datos, investigación y visualización, análisis estadístico, simulaciones; solo dependiendo de la estrategia con la que deseas aplicarla.\n",
    "\n",
    "\n",
    "#### **¿Por qué deberías adoptar la programación en R?**\n",
    "-----------\n",
    "* **R** es más que un paquete estadístico, es un lenguaje de programación, por lo que puedes crear objetos, funciones y paquetes con los que eres capaz de, rápidamente, tratar ideas y problemas factuales.\n",
    "\n",
    "* **R** no solo es gratis, sino que es de código abierto. Es decir, cualquiera puede examinar el código fuente para ver exactamente que esta haciendo, por lo que cualquiera puede solucionar bugs y agregar funciones.\n",
    "\n",
    "* **R** permite la integración con otros lenguages de alto nivel así como con muchos paquetes estadísticos, lo que le dan la flexibilidad y el poder que, personalmente, busco cuando trato con datos.\n",
    "\n",
    "* *Google* esta usando **R** y les resulta un lenguaje satisfactorio pero no por sus fortalezas como lenguaje de programación en sí, sino por su poder de construir librerías.\n",
    "\n",
    "* El grupo de contribuidores de **R** son diferenciados por sus enérgicas contribuciones en términos de aplicaciones y muchas de estas contribuciones están escritas en el mismo lenguaje **R**, por lo que los usuarios pueden seguirlas de manera fácil. Para labores mayores, códigos en *C*, *C++* y *Fortran* pueden ser conectados y ejecutados. Así, desarrolladores pueden escribir código en *C*, *C++* o *Python* para controlar objetos en **R**.\n",
    "\n",
    "Fuente:\n",
    "[Applications Of R Programming in R-eal World](https://elearningindustry.com/applications-r-programming-r-eal-world)"
   ]
  },
  {
   "cell_type": "code",
   "execution_count": null,
   "metadata": {
    "collapsed": true
   },
   "outputs": [],
   "source": []
  }
 ],
 "metadata": {
  "kernelspec": {
   "display_name": "R",
   "language": "R",
   "name": "ir"
  },
  "language_info": {
   "codemirror_mode": "r",
   "file_extension": ".r",
   "mimetype": "text/x-r-source",
   "name": "R",
   "pygments_lexer": "r",
   "version": "3.3.2"
  }
 },
 "nbformat": 4,
 "nbformat_minor": 2
}
