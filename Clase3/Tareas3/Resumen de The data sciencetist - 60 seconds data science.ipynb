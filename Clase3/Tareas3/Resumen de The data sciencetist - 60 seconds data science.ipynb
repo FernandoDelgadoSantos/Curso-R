{
 "cells": [
  {
   "cell_type": "markdown",
   "metadata": {},
   "source": [
    "# **Resumen de The data sciencetist - 60 seconds data science**\n",
    "\n",
    "---------------\n",
    "\n",
    "Un científico de datos es aquel que usa datos para resolver problemas que surgen en organizaciones que tratan con grandes cantidades de datos, en la que usualmente trabaja, gracias a sus conocimientos en *estadística*, *programación*, *base de datos*, *machine learning* y *modelamiento matemático*. \n",
    "En un día cualquiera en la vida de un científico de datos, lo primero que hace es entender los problemas organizacionales luego busca los datos y las herramientas para manipularlos,  como **R**, *Python*. Los resultados obtenidos son analizados mediante visualizaciones en las que el científico de datos busca tendencias, o chequeo de sus hipótesis. Los tests estadísticos son usados para robustecer y validar los resultados. Los resultados aprendidos son comunicados a los jefes, acompañados de recomendaciones. Por ejemplo un científico de datos al estar trabajando para una compañía de transportes puede notar rutas ineficientes y recomendar soluciones que creen una mayor eficiencia en las rutas. Gracias a la era de datos en la que vivimos los científicos de datos poseen mayores herramientas para dar mejores sugerencias basadas en el análisis profundo de datos.\n",
    "\n",
    "*Fuente*\n",
    "[Resumen de The data sciencetist - 60 seconds data science](https://www.youtube.com/watch?v=i2jwZcWicSY)."
   ]
  },
  {
   "cell_type": "code",
   "execution_count": null,
   "metadata": {
    "collapsed": true
   },
   "outputs": [],
   "source": []
  }
 ],
 "metadata": {
  "kernelspec": {
   "display_name": "R",
   "language": "R",
   "name": "ir"
  },
  "language_info": {
   "codemirror_mode": "r",
   "file_extension": ".r",
   "mimetype": "text/x-r-source",
   "name": "R",
   "pygments_lexer": "r",
   "version": "3.3.2"
  }
 },
 "nbformat": 4,
 "nbformat_minor": 2
}
